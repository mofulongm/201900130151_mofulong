{
 "cells": [
  {
   "cell_type": "markdown",
   "source": [
    "# Batch Normalization\n",
    "One way to make deep networks easier to train is to use more sophisticated optimization procedures such as SGD+momentum, RMSProp, or Adam. Another strategy is to change the architecture of the network to make it easier to train. \n",
    "One idea along these lines is batch normalization which was proposed by [1] in 2015.\n",
    "\n",
    "The idea is relatively straightforward. Machine learning methods tend to work better when their input data consists of uncorrelated features with zero mean and unit variance. When training a neural network, we can preprocess the data before feeding it to the network to explicitly decorrelate its features; this will ensure that the first layer of the network sees data that follows a nice distribution. However, even if we preprocess the input data, the activations at deeper layers of the network will likely no longer be decorrelated and will no longer have zero mean or unit variance since they are output from earlier layers in the network. Even worse, during the training process the distribution of features at each layer of the network will shift as the weights of each layer are updated.\n",
    "\n",
    "The authors of [1] hypothesize that the shifting distribution of features inside deep neural networks may make training deep networks more difficult. To overcome this problem, [1] proposes to insert batch normalization layers into the network. At training time, a batch normalization layer uses a minibatch of data to estimate the mean and standard deviation of each feature. These estimated means and standard deviations are then used to center and normalize the features of the minibatch. A running average of these means and standard deviations is kept during training, and at test time these running averages are used to center and normalize features.\n",
    "\n",
    "It is possible that this normalization strategy could reduce the representational power of the network, since it may sometimes be optimal for certain layers to have features that are not zero-mean or unit variance. To this end, the batch normalization layer includes learnable shift and scale parameters for each feature dimension.\n",
    "\n",
    "[1] [Sergey Ioffe and Christian Szegedy, \"Batch Normalization: Accelerating Deep Network Training by Reducing\n",
    "Internal Covariate Shift\", ICML 2015.](https://arxiv.org/abs/1502.03167)"
   ],
   "metadata": {
    "tags": [
     "pdf-title"
    ]
   }
  },
  {
   "cell_type": "code",
   "execution_count": 1,
   "source": [
    "# As usual, a bit of setup\r\n",
    "import time\r\n",
    "import numpy as np\r\n",
    "from layers import *\r\n",
    "from gradient_check import eval_numerical_gradient, eval_numerical_gradient_array\r\n",
    "\r\n",
    "def rel_error(x, y):\r\n",
    "    \"\"\" returns relative error \"\"\"\r\n",
    "    return np.max(np.abs(x - y) / (np.maximum(1e-8, np.abs(x) + np.abs(y))))\r\n",
    "\r\n",
    "def print_mean_std(x,axis=0):\r\n",
    "    print('  means: ', x.mean(axis=axis))\r\n",
    "    print('  stds:  ', x.std(axis=axis))\r\n",
    "    print() "
   ],
   "outputs": [],
   "metadata": {
    "tags": [
     "pdf-ignore"
    ]
   }
  },
  {
   "cell_type": "markdown",
   "source": [
    "## Batch normalization: forward\n",
    "In the file `layers.py`, implement the batch normalization forward pass in the function `batchnorm_forward`. Once you have done so, run the following to test your implementation.\n",
    "\n",
    "Referencing the paper linked to above in [1] may be helpful!"
   ],
   "metadata": {}
  },
  {
   "cell_type": "code",
   "execution_count": 2,
   "source": [
    "# Check the training-time forward pass by checking means and variances\r\n",
    "# of features both before and after batch normalization   \r\n",
    "\r\n",
    "# Simulate the forward pass for a two-layer network\r\n",
    "np.random.seed(231)\r\n",
    "N, D1, D2, D3 = 200, 50, 60, 3\r\n",
    "X = np.random.randn(N, D1)\r\n",
    "W1 = np.random.randn(D1, D2)\r\n",
    "W2 = np.random.randn(D2, D3)\r\n",
    "a = np.maximum(0, X.dot(W1)).dot(W2)\r\n",
    "print('Before batch normalization:')\r\n",
    "print_mean_std(a,axis=0)\r\n",
    "\r\n",
    "gamma = np.ones((D3,))\r\n",
    "beta = np.zeros((D3,))\r\n",
    "# Means should be close to zero and stds close to one\r\n",
    "print('After batch normalization (gamma=1, beta=0)')\r\n",
    "a_norm, _ = batchnorm_forward(a, gamma, beta, {'mode': 'train'})\r\n",
    "print_mean_std(a_norm,axis=0)\r\n",
    "\r\n",
    "gamma = np.asarray([1.0, 2.0, 3.0])\r\n",
    "beta = np.asarray([11.0, 12.0, 13.0])\r\n",
    "# Now means should be close to beta and stds close to gamma\r\n",
    "print('After batch normalization (gamma=', gamma, ', beta=', beta, ')')\r\n",
    "a_norm, _ = batchnorm_forward(a, gamma, beta, {'mode': 'train'})\r\n",
    "#print(a_norm)\r\n",
    "print_mean_std(a_norm,axis=0)"
   ],
   "outputs": [
    {
     "output_type": "stream",
     "name": "stdout",
     "text": [
      "Before batch normalization:\n",
      "  means:  [ -2.3814598  -13.18038246   1.91780462]\n",
      "  stds:   [27.18502186 34.21455511 37.68611762]\n",
      "\n",
      "After batch normalization (gamma=1, beta=0)\n",
      "  means:  [5.32907052e-17 7.04991621e-17 4.22578639e-17]\n",
      "  stds:   [0.99999999 1.         1.        ]\n",
      "\n",
      "After batch normalization (gamma= [1. 2. 3.] , beta= [11. 12. 13.] )\n",
      "  means:  [11. 12. 13.]\n",
      "  stds:   [0.99999999 1.99999999 2.99999999]\n",
      "\n"
     ]
    }
   ],
   "metadata": {}
  },
  {
   "cell_type": "code",
   "execution_count": 3,
   "source": [
    "# Check the test-time forward pass by running the training-time\r\n",
    "# forward pass many times to warm up the running averages, and then\r\n",
    "# checking the means and variances of activations after a test-time\r\n",
    "# forward pass.\r\n",
    "\r\n",
    "np.random.seed(231)\r\n",
    "N, D1, D2, D3 = 200, 50, 60, 3\r\n",
    "W1 = np.random.randn(D1, D2)\r\n",
    "W2 = np.random.randn(D2, D3)\r\n",
    "\r\n",
    "bn_param = {'mode': 'train'}\r\n",
    "gamma = np.ones(D3)\r\n",
    "beta = np.zeros(D3)\r\n",
    "\r\n",
    "for t in range(50):\r\n",
    "  X = np.random.randn(N, D1)\r\n",
    "  a = np.maximum(0, X.dot(W1)).dot(W2)\r\n",
    "  batchnorm_forward(a, gamma, beta, bn_param)\r\n",
    "\r\n",
    "bn_param['mode'] = 'test'\r\n",
    "X = np.random.randn(N, D1)\r\n",
    "a = np.maximum(0, X.dot(W1)).dot(W2)\r\n",
    "a_norm, _ = batchnorm_forward(a, gamma, beta, bn_param)\r\n",
    "\r\n",
    "# Means should be close to zero and stds close to one, but will be\r\n",
    "# noisier than training-time forward passes.\r\n",
    "print('After batch normalization (test-time):')\r\n",
    "print_mean_std(a_norm,axis=0)"
   ],
   "outputs": [
    {
     "output_type": "stream",
     "name": "stdout",
     "text": [
      "After batch normalization (test-time):\n",
      "  means:  [-0.03927354 -0.04349152 -0.10452688]\n",
      "  stds:   [1.01531428 1.01238373 0.97819988]\n",
      "\n"
     ]
    }
   ],
   "metadata": {}
  },
  {
   "cell_type": "markdown",
   "source": [
    "## Batch normalization: backward\n",
    "Now implement the backward pass for batch normalization in the function `batchnorm_backward`.\n",
    "\n",
    "To derive the backward pass you should write out the computation graph for batch normalization and backprop through each of the intermediate nodes. Some intermediates may have multiple outgoing branches; make sure to sum gradients across these branches in the backward pass.\n",
    "\n",
    "Once you have finished, run the following to numerically check your backward pass."
   ],
   "metadata": {}
  },
  {
   "cell_type": "code",
   "execution_count": 4,
   "source": [
    "# Gradient check batchnorm backward pass\r\n",
    "np.random.seed(231)\r\n",
    "N, D = 4, 5\r\n",
    "x = 5 * np.random.randn(N, D) + 12\r\n",
    "gamma = np.random.randn(D)\r\n",
    "beta = np.random.randn(D)\r\n",
    "dout = np.random.randn(N, D)\r\n",
    "\r\n",
    "bn_param = {'mode': 'train'}\r\n",
    "fx = lambda x: batchnorm_forward(x, gamma, beta, bn_param)[0]\r\n",
    "fg = lambda a: batchnorm_forward(x, a, beta, bn_param)[0]\r\n",
    "fb = lambda b: batchnorm_forward(x, gamma, b, bn_param)[0]\r\n",
    "\r\n",
    "dx_num = eval_numerical_gradient_array(fx, x, dout)\r\n",
    "da_num = eval_numerical_gradient_array(fg, gamma.copy(), dout)\r\n",
    "db_num = eval_numerical_gradient_array(fb, beta.copy(), dout)\r\n",
    "\r\n",
    "_, cache = batchnorm_forward(x, gamma, beta, bn_param)\r\n",
    "dx, dgamma, dbeta = batchnorm_backward(dout, cache)\r\n",
    "#You should expect to see relative errors between 1e-13 and 1e-8\r\n",
    "print('dx error: ', rel_error(dx_num, dx))\r\n",
    "print('dgamma error: ', rel_error(da_num, dgamma))\r\n",
    "print('dbeta error: ', rel_error(db_num, dbeta))"
   ],
   "outputs": [
    {
     "output_type": "stream",
     "name": "stdout",
     "text": [
      "dx error:  1.7029275364845641e-09\n",
      "dgamma error:  7.420414216247087e-13\n",
      "dbeta error:  2.8795057655839487e-12\n"
     ]
    }
   ],
   "metadata": {}
  },
  {
   "cell_type": "markdown",
   "source": [
    "## Batch normalization: alternative backward\n",
    "In class we talked about two different implementations for the sigmoid backward pass. One strategy is to write out a computation graph composed of simple operations and backprop through all intermediate values. Another strategy is to work out the derivatives on paper. For example, you can derive a very simple formula for the sigmoid function's backward pass by simplifying gradients on paper.\n",
    "\n",
    "Surprisingly, it turns out that you can do a similar simplification for the batch normalization backward pass too!  \n",
    "\n",
    "In the forward pass, given a set of inputs $X=\\begin{bmatrix}x_1\\\\x_2\\\\...\\\\x_N\\end{bmatrix}$, \n",
    "\n",
    "we first calculate the mean $\\mu$ and variance $v$.\n",
    "With $\\mu$ and $v$ calculated, we can calculate the standard deviation $\\sigma$  and normalized data $Y$.\n",
    "The equations and graph illustration below describe the computation ($y_i$ is the i-th element of the vector $Y$).\n",
    "\n",
    "\\begin{align}\n",
    "& \\mu=\\frac{1}{N}\\sum_{k=1}^N x_k  &  v=\\frac{1}{N}\\sum_{k=1}^N (x_k-\\mu)^2 \\\\\n",
    "& \\sigma=\\sqrt{v+\\epsilon}         &  y_i=\\frac{x_i-\\mu}{\\sigma}\n",
    "\\end{align}"
   ],
   "metadata": {}
  },
  {
   "cell_type": "markdown",
   "source": [
    "<img src=\"notebook_images/batchnorm_graph.png\" width=691 height=202>"
   ],
   "metadata": {}
  },
  {
   "cell_type": "markdown",
   "source": [
    "The meat of our problem during backpropagation is to compute $\\frac{\\partial L}{\\partial X}$, given the upstream gradient we receive, $\\frac{\\partial L}{\\partial Y}.$ To do this, recall the chain rule in calculus gives us $\\frac{\\partial L}{\\partial X} = \\frac{\\partial L}{\\partial Y} \\cdot \\frac{\\partial Y}{\\partial X}$.\n",
    "\n",
    "The unknown/hart part is $\\frac{\\partial Y}{\\partial X}$. We can find this by first deriving step-by-step our local gradients at \n",
    "$\\frac{\\partial v}{\\partial X}$, $\\frac{\\partial \\mu}{\\partial X}$,\n",
    "$\\frac{\\partial \\sigma}{\\partial v}$, \n",
    "$\\frac{\\partial Y}{\\partial \\sigma}$, and $\\frac{\\partial Y}{\\partial \\mu}$,\n",
    "and then use the chain rule to compose these gradients (which appear in the form of vectors!) appropriately to compute $\\frac{\\partial Y}{\\partial X}$.\n",
    "\n",
    "If it's challenging to directly reason about the gradients over $X$ and $Y$ which require matrix multiplication, try reasoning about the gradients in terms of individual elements $x_i$ and $y_i$ first: in that case, you will need to come up with the derivations for $\\frac{\\partial L}{\\partial x_i}$, by relying on the Chain Rule to first calculate the intermediate $\\frac{\\partial \\mu}{\\partial x_i}, \\frac{\\partial v}{\\partial x_i}, \\frac{\\partial \\sigma}{\\partial x_i},$ then assemble these pieces to calculate $\\frac{\\partial y_i}{\\partial x_i}$. \n",
    "\n",
    "You should make sure each of the intermediary gradient derivations are all as simplified as possible, for ease of implementation. \n",
    "\n",
    "After doing so, implement the simplified batch normalization backward pass in the function `batchnorm_backward_alt` and compare the two implementations by running the following. Your two implementations should compute nearly identical results, but the alternative implementation should be a bit faster."
   ],
   "metadata": {
    "tags": [
     "pdf-ignore"
    ]
   }
  },
  {
   "cell_type": "code",
   "execution_count": 28,
   "source": [
    "np.random.seed(231)\r\n",
    "N, D = 100, 500\r\n",
    "x = 5 * np.random.randn(N, D) + 12\r\n",
    "gamma = np.random.randn(D)\r\n",
    "beta = np.random.randn(D)\r\n",
    "dout = np.random.randn(N, D)\r\n",
    "\r\n",
    "bn_param = {'mode': 'train'}\r\n",
    "out, cache = batchnorm_forward(x, gamma, beta, bn_param)\r\n",
    "\r\n",
    "t1 = time.time()\r\n",
    "dx1, dgamma1, dbeta1 = batchnorm_backward(dout, cache)\r\n",
    "t2 = time.time()\r\n",
    "dx2, dgamma2, dbeta2 = batchnorm_backward_alt(dout, cache)\r\n",
    "t3 = time.time()\r\n",
    "\r\n",
    "print('dx difference: ', rel_error(dx1, dx2))\r\n",
    "print('dgamma difference: ', rel_error(dgamma1, dgamma2))\r\n",
    "print('dbeta difference: ', rel_error(dbeta1, dbeta2))\r\n",
    "print('speedup: %.2fx' % ((t2 - t1) / (t3 - t2)))"
   ],
   "outputs": [
    {
     "output_type": "stream",
     "name": "stdout",
     "text": [
      "dx difference:  7.494857050222097e-13\n",
      "dgamma difference:  0.0\n",
      "dbeta difference:  0.0\n",
      "speedup: 2.00x\n"
     ]
    }
   ],
   "metadata": {}
  }
 ],
 "metadata": {
  "kernelspec": {
   "name": "python3",
   "display_name": "Python 3.9.7 64-bit ('base': conda)"
  },
  "language_info": {
   "codemirror_mode": {
    "name": "ipython",
    "version": 3
   },
   "file_extension": ".py",
   "mimetype": "text/x-python",
   "name": "python",
   "nbconvert_exporter": "python",
   "pygments_lexer": "ipython3",
   "version": "3.9.7"
  },
  "interpreter": {
   "hash": "abbb4c0f983f8110345ba25d92765afae75a5a0cd93867df7441f3c91f1a0de5"
  }
 },
 "nbformat": 4,
 "nbformat_minor": 4
}