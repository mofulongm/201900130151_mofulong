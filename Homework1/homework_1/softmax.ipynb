{
 "cells": [
  {
   "cell_type": "markdown",
   "source": [
    "# Softmax exercise\r\n",
    "\r\n",
    "*Complete and hand in this completed worksheet (including its outputs and any supporting code outside of the worksheet) with your assignment submission. \r\n",
    "This exercise is analogous to the SVM exercise. You will:\r\n",
    "\r\n",
    "- implement a fully-vectorized **loss function** for the Softmax classifier\r\n",
    "- implement the fully-vectorized expression for its **analytic gradient**\r\n",
    "- **check your implementation** with numerical gradient\r\n",
    "- use a validation set to **tune the learning rate and regularization** strength\r\n",
    "- **optimize** the loss function with **SGD**\r\n",
    "- **visualize** the final learned weights\r\n"
   ],
   "metadata": {
    "tags": [
     "pdf-title"
    ]
   }
  },
  {
   "cell_type": "code",
   "execution_count": 1,
   "source": [
    "import random\r\n",
    "import numpy as np\r\n",
    "from sducs2019.data_utils import load_CIFAR10\r\n",
    "import matplotlib.pyplot as plt\r\n",
    "\r\n",
    "%matplotlib inline\r\n",
    "plt.rcParams['figure.figsize'] = (10.0, 8.0) # set default size of plots\r\n",
    "plt.rcParams['image.interpolation'] = 'nearest'\r\n",
    "plt.rcParams['image.cmap'] = 'gray'\r\n",
    "\r\n",
    "# for auto-reloading extenrnal modules\r\n",
    "# see http://stackoverflow.com/questions/1907993/autoreload-of-modules-in-ipython\r\n",
    "%load_ext autoreload\r\n",
    "%autoreload 2"
   ],
   "outputs": [],
   "metadata": {
    "tags": [
     "pdf-ignore"
    ]
   }
  },
  {
   "cell_type": "code",
   "execution_count": 2,
   "source": [
    "def get_CIFAR10_data(num_training=49000, num_validation=1000, num_test=1000, num_dev=500):\r\n",
    "    \"\"\"\r\n",
    "    Load the CIFAR-10 dataset from disk and perform preprocessing to prepare\r\n",
    "    it for the linear classifier. These are the same steps as we used for the\r\n",
    "    SVM, but condensed to a single function.  \r\n",
    "    \"\"\"\r\n",
    "    # Load the raw CIFAR-10 data\r\n",
    "    cifar10_dir = 'C:/Users/15339/Desktop/深度学习/实验/实验二/cifar-10-batches-py'\r\n",
    "    \r\n",
    "    # Cleaning up variables to prevent loading data multiple times (which may cause memory issue)\r\n",
    "   \r\n",
    "\r\n",
    "    X_train, y_train, X_test, y_test = load_CIFAR10(cifar10_dir)\r\n",
    "    \r\n",
    "    # subsample the data\r\n",
    "    mask = list(range(num_training, num_training + num_validation))\r\n",
    "    X_val = X_train[mask]\r\n",
    "    y_val = y_train[mask]\r\n",
    "    mask = list(range(num_training))\r\n",
    "    X_train = X_train[mask]\r\n",
    "    y_train = y_train[mask]\r\n",
    "    mask = list(range(num_test))\r\n",
    "    X_test = X_test[mask]\r\n",
    "    y_test = y_test[mask]\r\n",
    "    mask = np.random.choice(num_training, num_dev, replace=False)\r\n",
    "    X_dev = X_train[mask]\r\n",
    "    y_dev = y_train[mask]\r\n",
    "    \r\n",
    "    # Preprocessing: reshape the image data into rows\r\n",
    "    X_train = np.reshape(X_train, (X_train.shape[0], -1))\r\n",
    "    X_val = np.reshape(X_val, (X_val.shape[0], -1))\r\n",
    "    X_test = np.reshape(X_test, (X_test.shape[0], -1))\r\n",
    "    X_dev = np.reshape(X_dev, (X_dev.shape[0], -1))\r\n",
    "    \r\n",
    "    # Normalize the data: subtract the mean image\r\n",
    "    mean_image = np.mean(X_train, axis = 0)\r\n",
    "    X_train -= mean_image\r\n",
    "    X_val -= mean_image\r\n",
    "    X_test -= mean_image\r\n",
    "    X_dev -= mean_image\r\n",
    "    \r\n",
    "    # add bias dimension and transform into columns\r\n",
    "    X_train = np.hstack([X_train, np.ones((X_train.shape[0], 1))])\r\n",
    "    X_val = np.hstack([X_val, np.ones((X_val.shape[0], 1))])\r\n",
    "    X_test = np.hstack([X_test, np.ones((X_test.shape[0], 1))])\r\n",
    "    X_dev = np.hstack([X_dev, np.ones((X_dev.shape[0], 1))])\r\n",
    "    \r\n",
    "    return X_train, y_train, X_val, y_val, X_test, y_test, X_dev, y_dev\r\n",
    "\r\n",
    "\r\n",
    "# Invoke the above function to get our data.\r\n",
    "X_train, y_train, X_val, y_val, X_test, y_test, X_dev, y_dev = get_CIFAR10_data()\r\n",
    "print('Train data shape: ', X_train.shape)\r\n",
    "print('Train labels shape: ', y_train.shape)\r\n",
    "print('Validation data shape: ', X_val.shape)\r\n",
    "print('Validation labels shape: ', y_val.shape)\r\n",
    "print('Test data shape: ', X_test.shape)\r\n",
    "print('Test labels shape: ', y_test.shape)\r\n",
    "print('dev data shape: ', X_dev.shape)\r\n",
    "print('dev labels shape: ', y_dev.shape)"
   ],
   "outputs": [
    {
     "output_type": "stream",
     "name": "stdout",
     "text": [
      "Train data shape:  (49000, 3073)\n",
      "Train labels shape:  (49000,)\n",
      "Validation data shape:  (1000, 3073)\n",
      "Validation labels shape:  (1000,)\n",
      "Test data shape:  (1000, 3073)\n",
      "Test labels shape:  (1000,)\n",
      "dev data shape:  (500, 3073)\n",
      "dev labels shape:  (500,)\n"
     ]
    }
   ],
   "metadata": {
    "tags": [
     "pdf-ignore"
    ]
   }
  },
  {
   "cell_type": "markdown",
   "source": [
    "## Softmax Classifier\n",
    "\n",
    "Your code for this section will all be written inside **sducs2019/classifiers/softmax.py**. \n"
   ],
   "metadata": {}
  },
  {
   "cell_type": "code",
   "execution_count": 3,
   "source": [
    "# First implement the naive softmax loss function with nested loops.\r\n",
    "# Open the file sducs2019/classifiers/softmax.py and implement the\r\n",
    "# softmax_loss_naive function.\r\n",
    "\r\n",
    "from sducs2019.classifiers.softmax import softmax_loss_naive\r\n",
    "import time\r\n",
    "\r\n",
    "# Generate a random softmax weight matrix and use it to compute the loss.\r\n",
    "W = np.random.randn(3073, 10) * 0.0001\r\n",
    "loss, grad = softmax_loss_naive(W, X_dev, y_dev, 0.0)\r\n",
    "\r\n",
    "# As a rough sanity check, our loss should be something close to -log(0.1).\r\n",
    "print('loss: %f' % loss)\r\n",
    "print('sanity check: %f' % (-np.log(0.1)))"
   ],
   "outputs": [
    {
     "output_type": "stream",
     "name": "stdout",
     "text": [
      "loss: 2.375208\n",
      "sanity check: 2.302585\n"
     ]
    }
   ],
   "metadata": {}
  },
  {
   "cell_type": "markdown",
   "source": [
    "**Inline Question 1**\r\n",
    "\r\n",
    "Why do we expect our loss to be close to -log(0.1)? Explain briefly.**\r\n",
    "\r\n",
    "$\\color{blue}{\\textit Your Answer:}$ 因为w开始是随机的，所以每个类的得分都是一样的，经过softmax以后的概率都是一样的，因为分成了10类，所以交叉熵得到的loss就是-log(0.1)\r\n",
    "\r\n"
   ],
   "metadata": {
    "tags": [
     "pdf-inline"
    ]
   }
  },
  {
   "cell_type": "code",
   "execution_count": 4,
   "source": [
    "# Complete the implementation of softmax_loss_naive and implement a (naive)\r\n",
    "# version of the gradient that uses nested loops.\r\n",
    "loss, grad = softmax_loss_naive(W, X_dev, y_dev, 0.0)\r\n",
    "\r\n",
    "# As we did for the SVM, use numeric gradient checking as a debugging tool.\r\n",
    "# The numeric gradient should be close to the analytic gradient.\r\n",
    "from sducs2019.gradient_check import grad_check_sparse\r\n",
    "f = lambda w: softmax_loss_naive(w, X_dev, y_dev, 0.0)[0]\r\n",
    "grad_numerical = grad_check_sparse(f, W, grad, 10)\r\n",
    "\r\n",
    "# similar to SVM case, do another gradient check with regularization\r\n",
    "loss, grad = softmax_loss_naive(W, X_dev, y_dev, 5e1)\r\n",
    "f = lambda w: softmax_loss_naive(w, X_dev, y_dev, 5e1)[0]\r\n",
    "grad_numerical = grad_check_sparse(f, W, grad, 10)"
   ],
   "outputs": [
    {
     "output_type": "stream",
     "name": "stdout",
     "text": [
      "numerical: 0.105979 analytic: 0.105979, relative error: 4.398494e-07\n",
      "numerical: -1.346567 analytic: -1.346567, relative error: 4.895846e-08\n",
      "numerical: 0.656266 analytic: 0.656266, relative error: 1.194859e-07\n",
      "numerical: -4.889303 analytic: -4.889303, relative error: 1.442024e-09\n",
      "numerical: 1.175220 analytic: 1.175220, relative error: 1.412129e-08\n",
      "numerical: 0.149281 analytic: 0.149282, relative error: 1.220575e-07\n",
      "numerical: -0.005673 analytic: -0.005673, relative error: 4.913458e-06\n",
      "numerical: 0.253631 analytic: 0.253631, relative error: 9.278462e-08\n",
      "numerical: 3.874647 analytic: 3.874647, relative error: 3.312810e-09\n",
      "numerical: -1.891648 analytic: -1.891648, relative error: 1.524223e-08\n",
      "numerical: 1.612868 analytic: 1.612868, relative error: 5.185797e-08\n",
      "numerical: -0.056275 analytic: -0.056275, relative error: 3.525083e-07\n",
      "numerical: 0.144214 analytic: 0.144214, relative error: 2.733106e-07\n",
      "numerical: 0.140139 analytic: 0.140139, relative error: 1.879933e-07\n",
      "numerical: -0.152547 analytic: -0.152547, relative error: 1.006738e-07\n",
      "numerical: -0.966297 analytic: -0.966297, relative error: 4.772304e-09\n",
      "numerical: 1.281494 analytic: 1.281494, relative error: 1.088564e-09\n",
      "numerical: 1.967915 analytic: 1.967914, relative error: 2.106386e-08\n",
      "numerical: -2.122463 analytic: -2.122463, relative error: 2.291797e-08\n",
      "numerical: 1.952018 analytic: 1.952018, relative error: 4.166216e-09\n"
     ]
    }
   ],
   "metadata": {}
  },
  {
   "cell_type": "code",
   "execution_count": 5,
   "source": [
    "# Now that we have a naive implementation of the softmax loss function and its gradient,\r\n",
    "# implement a vectorized version in softmax_loss_vectorized.\r\n",
    "# The two versions should compute the same results, but the vectorized version should be\r\n",
    "# much faster.\r\n",
    "tic = time.time()\r\n",
    "loss_naive, grad_naive = softmax_loss_naive(W, X_dev, y_dev, 0.000005)\r\n",
    "toc = time.time()\r\n",
    "print('naive loss: %e computed in %fs' % (loss_naive, toc - tic))\r\n",
    "\r\n",
    "from sducs2019.classifiers.softmax import softmax_loss_vectorized\r\n",
    "tic = time.time()\r\n",
    "loss_vectorized, grad_vectorized = softmax_loss_vectorized(W, X_dev, y_dev, 0.000005)\r\n",
    "toc = time.time()\r\n",
    "print('vectorized loss: %e computed in %fs' % (loss_vectorized, toc - tic))\r\n",
    "\r\n",
    "# As we did for the SVM, we use the Frobenius norm to compare the two versions\r\n",
    "# of the gradient.\r\n",
    "grad_difference = np.linalg.norm(grad_naive - grad_vectorized, ord='fro')\r\n",
    "print('Loss difference: %f' % np.abs(loss_naive - loss_vectorized))\r\n",
    "print('Gradient difference: %f' % grad_difference)"
   ],
   "outputs": [
    {
     "output_type": "stream",
     "name": "stdout",
     "text": [
      "naive loss: 2.375208e+00 computed in 0.086739s\n",
      "vectorized loss: 2.375208e+00 computed in 0.003992s\n",
      "Loss difference: 0.000000\n",
      "Gradient difference: 0.000000\n"
     ]
    }
   ],
   "metadata": {}
  },
  {
   "cell_type": "code",
   "execution_count": 6,
   "source": [
    "# Use the validation set to tune hyperparameters (regularization strength and\r\n",
    "# learning rate). You should experiment with different ranges for the learning\r\n",
    "# rates and regularization strengths; if you are careful you should be able to\r\n",
    "# get a classification accuracy of over 0.35 on the validation set.\r\n",
    "from sducs2019.classifiers import Softmax\r\n",
    "from copy import deepcopy\r\n",
    "results = {}\r\n",
    "best_val = -1\r\n",
    "best_softmax = None\r\n",
    "learning_rates = [1e-7, 5e-7]\r\n",
    "regularization_strengths = [2.5e4, 5e4]\r\n",
    "\r\n",
    "################################################################################\r\n",
    "# TODO:                                                                        #\r\n",
    "# Use the validation set to set the learning rate and regularization strength. #\r\n",
    "# This should be identical to the validation that you did for the SVM; save    #\r\n",
    "# the best trained softmax classifer in best_softmax.                          #\r\n",
    "################################################################################\r\n",
    "# *****START OF YOUR CODE (DO NOT DELETE/MODIFY THIS LINE)*****\r\n",
    "for lr in learning_rates:\r\n",
    "    for reg in regularization_strengths:\r\n",
    "        softmax = Softmax()\r\n",
    "        softmax.train(X_train, y_train, lr, reg, 1500, 128)\r\n",
    "        train_pred = softmax.predict(X_train)\r\n",
    "        train_acc = np.mean(train_pred == y_train)\r\n",
    "        val_pred = softmax.predict(X_val)\r\n",
    "        val_acc = np.mean(val_pred == y_val)\r\n",
    "        results[(lr, reg)] = [train_acc, val_acc]\r\n",
    "        if val_acc > best_val:\r\n",
    "            best_val = val_acc\r\n",
    "            best_softmax = deepcopy(softmax)\r\n",
    "pass\r\n",
    "\r\n",
    "# *****END OF YOUR CODE (DO NOT DELETE/MODIFY THIS LINE)*****\r\n",
    "    \r\n",
    "# Print out results.\r\n",
    "for lr, reg in sorted(results):\r\n",
    "    train_accuracy, val_accuracy = results[(lr, reg)]\r\n",
    "    print('lr %e reg %e train accuracy: %f val accuracy: %f' % (\r\n",
    "                lr, reg, train_accuracy, val_accuracy))\r\n",
    "    \r\n",
    "print('best validation accuracy achieved during cross-validation: %f' % best_val)"
   ],
   "outputs": [
    {
     "output_type": "stream",
     "name": "stdout",
     "text": [
      "lr 1.000000e-07 reg 2.500000e+04 train accuracy: 0.325959 val accuracy: 0.337000\n",
      "lr 1.000000e-07 reg 5.000000e+04 train accuracy: 0.307490 val accuracy: 0.331000\n",
      "lr 5.000000e-07 reg 2.500000e+04 train accuracy: 0.328347 val accuracy: 0.346000\n",
      "lr 5.000000e-07 reg 5.000000e+04 train accuracy: 0.296163 val accuracy: 0.313000\n",
      "best validation accuracy achieved during cross-validation: 0.346000\n"
     ]
    }
   ],
   "metadata": {
    "tags": [
     "code"
    ]
   }
  },
  {
   "cell_type": "code",
   "execution_count": 7,
   "source": [
    "# evaluate on test set\r\n",
    "# Evaluate the best softmax on test set\r\n",
    "y_test_pred = best_softmax.predict(X_test)\r\n",
    "test_accuracy = np.mean(y_test == y_test_pred)\r\n",
    "print('softmax on raw pixels final test set accuracy: %f' % (test_accuracy, ))"
   ],
   "outputs": [
    {
     "output_type": "stream",
     "name": "stdout",
     "text": [
      "softmax on raw pixels final test set accuracy: 0.344000\n"
     ]
    }
   ],
   "metadata": {}
  },
  {
   "cell_type": "markdown",
   "source": [
    "**Inline Question 2** - *True or False*\r\n",
    "\r\n",
    "Suppose the overall training loss is defined as the sum of the per-datapoint loss over all training examples. It is possible to add a new datapoint to a training set that would leave the SVM loss unchanged, but this is not the case with the Softmax classifier loss.\r\n",
    "\r\n",
    "$\\color{blue}{\\textit Your Answer:}$对的\r\n",
    "\r\n",
    "\r\n",
    "$\\color{blue}{\\textit Your Explanation:}$\r\n",
    "因为svm使用的是max函数，输出的数不是0就是大于0的数，如果对于一组特殊的数据点，它们可能全部都是0，得到的结果自然也是0，但是softmax算的是概率，就代表着总会得到一个概率分布，然后求出交叉熵，所以，loss总会有一个值\r\n",
    "\r\n"
   ],
   "metadata": {
    "tags": [
     "pdf-inline"
    ]
   }
  },
  {
   "cell_type": "code",
   "execution_count": 8,
   "source": [
    "# Visualize the learned weights for each class\r\n",
    "w = best_softmax.W[:-1,:] # strip out the bias\r\n",
    "w = w.reshape(32, 32, 3, 10)\r\n",
    "\r\n",
    "w_min, w_max = np.min(w), np.max(w)\r\n",
    "\r\n",
    "classes = ['plane', 'car', 'bird', 'cat', 'deer', 'dog', 'frog', 'horse', 'ship', 'truck']\r\n",
    "for i in range(10):\r\n",
    "    plt.subplot(2, 5, i + 1)\r\n",
    "    \r\n",
    "    # Rescale the weights to be between 0 and 255\r\n",
    "    wimg = 255.0 * (w[:, :, :, i].squeeze() - w_min) / (w_max - w_min)\r\n",
    "    plt.imshow(wimg.astype('uint8'))\r\n",
    "    plt.axis('off')\r\n",
    "    plt.title(classes[i])"
   ],
   "outputs": [
    {
     "output_type": "display_data",
     "data": {
      "image/png": "[encoded data removed]",
      "text/plain": [
       "<Figure size 720x576 with 10 Axes>"
      ]
     },
     "metadata": {
      "needs_background": "light"
     }
    }
   ],
   "metadata": {}
  }
 ],
 "metadata": {
  "kernelspec": {
   "name": "python3",
   "display_name": "Python 3.9.5 64-bit ('base': conda)"
  },
  "language_info": {
   "codemirror_mode": {
    "name": "ipython",
    "version": 3
   },
   "file_extension": ".py",
   "mimetype": "text/x-python",
   "name": "python",
   "nbconvert_exporter": "python",
   "pygments_lexer": "ipython3",
   "version": "3.9.5"
  },
  "interpreter": {
   "hash": "abbb4c0f983f8110345ba25d92765afae75a5a0cd93867df7441f3c91f1a0de5"
  }
 },
 "nbformat": 4,
 "nbformat_minor": 4
}