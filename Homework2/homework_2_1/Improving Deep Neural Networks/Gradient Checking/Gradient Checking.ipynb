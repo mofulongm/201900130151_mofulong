{
 "cells": [
  {
   "cell_type": "markdown",
   "source": [
    "# Gradient Checking\n",
    "\n",
    "Welcome to the final assignment for this week! In this assignment you will learn to implement and use gradient checking. \n",
    "\n",
    "You are part of a team working to make mobile payments available globally, and are asked to build a deep learning model to detect fraud--whenever someone makes a payment, you want to see if the payment might be fraudulent, such as if the user's account has been taken over by a hacker. \n",
    "\n",
    "But backpropagation is quite challenging to implement, and sometimes has bugs. Because this is a mission-critical application, your company's CEO wants to be really certain that your implementation of backpropagation is correct. Your CEO says, \"Give me a proof that your backpropagation is actually working!\" To give this reassurance, you are going to use \"gradient checking\".\n",
    "\n",
    "Let's do it!"
   ],
   "metadata": {}
  },
  {
   "cell_type": "code",
   "execution_count": 1,
   "source": [
    "# Packages\r\n",
    "import numpy as np\r\n",
    "from testCases import *\r\n",
    "from gc_utils import sigmoid, relu, dictionary_to_vector, vector_to_dictionary, gradients_to_vector"
   ],
   "outputs": [],
   "metadata": {
    "collapsed": true,
    "jupyter": {
     "outputs_hidden": true
    }
   }
  },
  {
   "cell_type": "markdown",
   "source": [
    "## 1) How does gradient checking work?\r\n",
    "\r\n",
    "Backpropagation computes the gradients $\\frac{\\partial J}{\\partial \\theta}$, where $\\theta$ denotes the parameters of the model. $J$ is computed using forward propagation and your loss function.\r\n",
    "\r\n",
    "Because forward propagation is relatively easy to implement, you're confident you got that right, and so you're almost  100% sure that you're computing the cost $J$ correctly. Thus, you can use your code for computing $J$ to verify the code for computing $\\frac{\\partial J}{\\partial \\theta}$. \r\n",
    "\r\n",
    "Let's look back at the definition of a derivative (or gradient):\r\n",
    "$$ \\frac{\\partial J}{\\partial \\theta} = \\lim_{\\varepsilon \\to 0} \\frac{J(\\theta + \\varepsilon) - J(\\theta - \\varepsilon)}{2 \\varepsilon} \\tag{1}$$\r\n",
    "\r\n",
    "If you're not familiar with the \"$\\displaystyle \\lim_{\\varepsilon \\to 0}$\" notation, it's just a way of saying \"when $\\varepsilon$ is really really small.\"\r\n",
    "\r\n",
    "We know the following:\r\n",
    "\r\n",
    "- $\\frac{\\partial J}{\\partial \\theta}$ is what you want to make sure you're computing correctly. \r\n",
    "- You can compute $J(\\theta + \\varepsilon)$ and $J(\\theta - \\varepsilon)$ (in the case that $\\theta$ is a real number), since you're confident your implementation for $J$ is correct. \r\n",
    "\r\n",
    "Lets use equation (1) and a small value for $\\varepsilon$ to convince your CEO that your code for computing  $\\frac{\\partial J}{\\partial \\theta}$ is correct!"
   ],
   "metadata": {}
  },
  {
   "cell_type": "markdown",
   "source": [
    "## 2) 1-dimensional gradient checking\r\n",
    "\r\n",
    "Consider a 1D linear function $J(\\theta) = \\theta x$. The model contains only a single real-valued parameter $\\theta$, and takes $x$ as input.\r\n",
    "\r\n",
    "You will implement code to compute $J(.)$ and its derivative $\\frac{\\partial J}{\\partial \\theta}$. You will then use gradient checking to make sure your derivative computation for $J$ is correct. \r\n",
    "\r\n",
    "<img src=\"images/1Dgrad_kiank.png\" style=\"width:600px;height:250px;\">\r\n",
    "<caption><center> <u> **Figure 1** </u>: **1D linear model**<br> </center></caption>\r\n",
    "\r\n",
    "The diagram above shows the key computation steps: First start with $x$, then evaluate the function $J(x)$ (\"forward propagation\"). Then compute the derivative $\\frac{\\partial J}{\\partial \\theta}$ (\"backward propagation\"). \r\n",
    "\r\n",
    "**Exercise**: implement \"forward propagation\" and \"backward propagation\" for this simple function. I.e., compute both $J(.)$ (\"forward propagation\") and its derivative with respect to $\\theta$ (\"backward propagation\"), in two separate functions. "
   ],
   "metadata": {}
  },
  {
   "cell_type": "code",
   "execution_count": 2,
   "source": [
    "# GRADED FUNCTION: forward_propagation\r\n",
    "\r\n",
    "def forward_propagation(x, theta):\r\n",
    "    \"\"\"\r\n",
    "    Implement the linear forward propagation (compute J) presented in Figure 1 (J(theta) = theta * x)\r\n",
    "    \r\n",
    "    Arguments:\r\n",
    "    x -- a real-valued input\r\n",
    "    theta -- our parameter, a real number as well\r\n",
    "    \r\n",
    "    Returns:\r\n",
    "    J -- the value of function J, computed using the formula J(theta) = theta * x\r\n",
    "    \"\"\"\r\n",
    "    \r\n",
    "    ### START CODE HERE ### (approx. 1 line)\r\n",
    "    J = theta*x\r\n",
    "    ### END CODE HERE ###\r\n",
    "    \r\n",
    "    return J"
   ],
   "outputs": [],
   "metadata": {
    "collapsed": true,
    "jupyter": {
     "outputs_hidden": true
    }
   }
  },
  {
   "cell_type": "code",
   "execution_count": 3,
   "source": [
    "x, theta = 2, 4\r\n",
    "J = forward_propagation(x, theta)\r\n",
    "print (\"J = \" + str(J))"
   ],
   "outputs": [
    {
     "output_type": "stream",
     "name": "stdout",
     "text": [
      "J = 8\n"
     ]
    }
   ],
   "metadata": {
    "collapsed": true,
    "jupyter": {
     "outputs_hidden": true
    }
   }
  },
  {
   "cell_type": "markdown",
   "source": [
    "**Expected Output**:\n",
    "\n",
    "<table style=>\n",
    "    <tr>\n",
    "        <td>  ** J **  </td>\n",
    "        <td> 8</td>\n",
    "    </tr>\n",
    "</table>"
   ],
   "metadata": {}
  },
  {
   "cell_type": "markdown",
   "source": [
    "**Exercise**: Now, implement the backward propagation step (derivative computation) of Figure 1. That is, compute the derivative of $J(\\theta) = \\theta x$ with respect to $\\theta$. To save you from doing the calculus, you should get $dtheta = \\frac { \\partial J }{ \\partial \\theta} = x$."
   ],
   "metadata": {}
  },
  {
   "cell_type": "code",
   "execution_count": 4,
   "source": [
    "# GRADED FUNCTION: backward_propagation\r\n",
    "\r\n",
    "def backward_propagation(x, theta):\r\n",
    "    \"\"\"\r\n",
    "    Computes the derivative of J with respect to theta (see Figure 1).\r\n",
    "    \r\n",
    "    Arguments:\r\n",
    "    x -- a real-valued input\r\n",
    "    theta -- our parameter, a real number as well\r\n",
    "    \r\n",
    "    Returns:\r\n",
    "    dtheta -- the gradient of the cost with respect to theta\r\n",
    "    \"\"\"\r\n",
    "    \r\n",
    "    ### START CODE HERE ### (approx. 1 line)\r\n",
    "    dtheta = x\r\n",
    "    ### END CODE HERE ###\r\n",
    "    \r\n",
    "    return dtheta"
   ],
   "outputs": [],
   "metadata": {
    "collapsed": true,
    "jupyter": {
     "outputs_hidden": true
    }
   }
  },
  {
   "cell_type": "code",
   "execution_count": 5,
   "source": [
    "x, theta = 2, 4\r\n",
    "dtheta = backward_propagation(x, theta)\r\n",
    "print (\"dtheta = \" + str(dtheta))"
   ],
   "outputs": [
    {
     "output_type": "stream",
     "name": "stdout",
     "text": [
      "dtheta = 2\n"
     ]
    }
   ],
   "metadata": {
    "collapsed": true,
    "jupyter": {
     "outputs_hidden": true
    },
    "scrolled": true
   }
  },
  {
   "cell_type": "markdown",
   "source": [
    "**Expected Output**:\n",
    "\n",
    "<table>\n",
    "    <tr>\n",
    "        <td>  ** dtheta **  </td>\n",
    "        <td> 2 </td>\n",
    "    </tr>\n",
    "</table>"
   ],
   "metadata": {}
  },
  {
   "cell_type": "markdown",
   "source": [
    "**Exercise**: To show that the `backward_propagation()` function is correctly computing the gradient $\\frac{\\partial J}{\\partial \\theta}$, let's implement gradient checking.\n",
    "\n",
    "**Instructions**:\n",
    "- First compute \"gradapprox\" using the formula above (1) and a small value of $\\varepsilon$. Here are the Steps to follow:\n",
    "    1. $\\theta^{+} = \\theta + \\varepsilon$\n",
    "    2. $\\theta^{-} = \\theta - \\varepsilon$\n",
    "    3. $J^{+} = J(\\theta^{+})$\n",
    "    4. $J^{-} = J(\\theta^{-})$\n",
    "    5. $gradapprox = \\frac{J^{+} - J^{-}}{2  \\varepsilon}$\n",
    "- Then compute the gradient using backward propagation, and store the result in a variable \"grad\"\n",
    "- Finally, compute the relative difference between \"gradapprox\" and the \"grad\" using the following formula:\n",
    "$$ difference = \\frac {\\mid\\mid grad - gradapprox \\mid\\mid_2}{\\mid\\mid grad \\mid\\mid_2 + \\mid\\mid gradapprox \\mid\\mid_2} \\tag{2}$$\n",
    "You will need 3 Steps to compute this formula:\n",
    "   - 1'. compute the numerator using np.linalg.norm(...)\n",
    "   - 2'. compute the denominator. You will need to call np.linalg.norm(...) twice.\n",
    "   - 3'. divide them.\n",
    "- If this difference is small (say less than $10^{-7}$), you can be quite confident that you have computed your gradient correctly. Otherwise, there may be a mistake in the gradient computation. \n"
   ],
   "metadata": {}
  },
  {
   "cell_type": "code",
   "execution_count": 10,
   "source": [
    "# GRADED FUNCTION: gradient_check\r\n",
    "\r\n",
    "def gradient_check(x, theta, epsilon = 1e-7):\r\n",
    "    \"\"\"\r\n",
    "    Implement the backward propagation presented in Figure 1.\r\n",
    "    \r\n",
    "    Arguments:\r\n",
    "    x -- a real-valued input\r\n",
    "    theta -- our parameter, a real number as well\r\n",
    "    epsilon -- tiny shift to the input to compute approximated gradient with formula(1)\r\n",
    "    \r\n",
    "    Returns:\r\n",
    "    difference -- difference (2) between the approximated gradient and the backward propagation gradient\r\n",
    "    \"\"\"\r\n",
    "    \r\n",
    "    # Compute gradapprox using left side of formula (1). epsilon is small enough, you don't need to worry about the limit.\r\n",
    "    ### START CODE HERE ### (approx. 5 lines)\r\n",
    "    thetaplus = theta + epsilon                    # Step 1\r\n",
    "    thetaminus = theta - epsilon                    # Step 2\r\n",
    "    J_plus =  thetaplus * x                    # Step 3\r\n",
    "    J_minus =  thetaminus * x                     # Step 4\r\n",
    "    gradapprox = (J_plus-J_minus)/(2 * epsilon)                   # Step 5\r\n",
    "    ### END CODE HERE ###\r\n",
    "    \r\n",
    "    # Check if gradapprox is close enough to the output of backward_propagation()\r\n",
    "    ### START CODE HERE ### (approx. 1 line)\r\n",
    "    grad = backward_propagation(x, theta)\r\n",
    "    ### END CODE HERE ###\r\n",
    "    \r\n",
    "    ### START CODE HERE ### (approx. 1 line)\r\n",
    "    numerator =  np.linalg.norm(grad - gradapprox)                                # Step 1'\r\n",
    "    denominator =   np.linalg.norm(grad) + np.linalg.norm(gradapprox)                     # Step 2'\r\n",
    "    difference = numerator / denominator                                   # Step 3'\r\n",
    "    ### END CODE HERE ###\r\n",
    "    \r\n",
    "    if difference < 1e-7:\r\n",
    "        print (\"The gradient is correct!\")\r\n",
    "    else:\r\n",
    "        print (\"The gradient is wrong!\")\r\n",
    "    \r\n",
    "    return difference"
   ],
   "outputs": [],
   "metadata": {
    "collapsed": true,
    "jupyter": {
     "outputs_hidden": true
    }
   }
  },
  {
   "cell_type": "code",
   "execution_count": 11,
   "source": [
    "x, theta = 2, 4\r\n",
    "difference = gradient_check(x, theta)\r\n",
    "print(\"difference = \" + str(difference))"
   ],
   "outputs": [
    {
     "output_type": "stream",
     "name": "stdout",
     "text": [
      "The gradient is correct!\n",
      "difference = 2.919335883291695e-10\n"
     ]
    }
   ],
   "metadata": {
    "collapsed": true,
    "jupyter": {
     "outputs_hidden": true
    },
    "scrolled": true
   }
  },
  {
   "cell_type": "markdown",
   "source": [
    "**Expected Output**:\n",
    "The gradient is correct!\n",
    "<table>\n",
    "    <tr>\n",
    "        <td>  ** difference **  </td>\n",
    "        <td> 2.9193358103083e-10 </td>\n",
    "    </tr>\n",
    "</table>"
   ],
   "metadata": {}
  },
  {
   "cell_type": "markdown",
   "source": [
    "Congrats, the difference is smaller than the $10^{-7}$ threshold. So you can have high confidence that you've correctly computed the gradient in `backward_propagation()`. \n",
    "\n",
    "Now, in the more general case, your cost function $J$ has more than a single 1D input. When you are training a neural network, $\\theta$ actually consists of multiple matrices $W^{[l]}$ and biases $b^{[l]}$! It is important to know how to do a gradient check with higher-dimensional inputs. Let's do it!"
   ],
   "metadata": {}
  },
  {
   "cell_type": "markdown",
   "source": [
    "## 3) N-dimensional gradient checking"
   ],
   "metadata": {}
  },
  {
   "cell_type": "markdown",
   "source": [
    "The following figure describes the forward and backward propagation of your fraud detection model.\n",
    "\n",
    "<img src=\"images/NDgrad_kiank.png\" style=\"width:600px;height:400px;\">\n",
    "<caption><center> <u> **Figure 2** </u>: **deep neural network**<br>*LINEAR -> RELU -> LINEAR -> RELU -> LINEAR -> SIGMOID*</center></caption>\n",
    "\n",
    "Let's look at your implementations for forward propagation and backward propagation. "
   ],
   "metadata": {}
  },
  {
   "cell_type": "code",
   "execution_count": 12,
   "source": [
    "def forward_propagation_n(X, Y, parameters):\r\n",
    "    \"\"\"\r\n",
    "    Implements the forward propagation (and computes the cost) presented in Figure 3.\r\n",
    "    \r\n",
    "    Arguments:\r\n",
    "    X -- training set for m examples\r\n",
    "    Y -- labels for m examples \r\n",
    "    parameters -- python dictionary containing your parameters \"W1\", \"b1\", \"W2\", \"b2\", \"W3\", \"b3\":\r\n",
    "                    W1 -- weight matrix of shape (5, 4)\r\n",
    "                    b1 -- bias vector of shape (5, 1)\r\n",
    "                    W2 -- weight matrix of shape (3, 5)\r\n",
    "                    b2 -- bias vector of shape (3, 1)\r\n",
    "                    W3 -- weight matrix of shape (1, 3)\r\n",
    "                    b3 -- bias vector of shape (1, 1)\r\n",
    "    \r\n",
    "    Returns:\r\n",
    "    cost -- the cost function (logistic cost for one example)\r\n",
    "    \"\"\"\r\n",
    "    \r\n",
    "    # retrieve parameters\r\n",
    "    m = X.shape[1]\r\n",
    "    W1 = parameters[\"W1\"]\r\n",
    "    b1 = parameters[\"b1\"]\r\n",
    "    W2 = parameters[\"W2\"]\r\n",
    "    b2 = parameters[\"b2\"]\r\n",
    "    W3 = parameters[\"W3\"]\r\n",
    "    b3 = parameters[\"b3\"]\r\n",
    "\r\n",
    "    # LINEAR -> RELU -> LINEAR -> RELU -> LINEAR -> SIGMOID\r\n",
    "    Z1 = np.dot(W1, X) + b1\r\n",
    "    A1 = relu(Z1)\r\n",
    "    Z2 = np.dot(W2, A1) + b2\r\n",
    "    A2 = relu(Z2)\r\n",
    "    Z3 = np.dot(W3, A2) + b3\r\n",
    "    A3 = sigmoid(Z3)\r\n",
    "\r\n",
    "    # Cost\r\n",
    "    logprobs = np.multiply(-np.log(A3),Y) + np.multiply(-np.log(1 - A3), 1 - Y)\r\n",
    "    cost = 1./m * np.sum(logprobs)\r\n",
    "    \r\n",
    "    cache = (Z1, A1, W1, b1, Z2, A2, W2, b2, Z3, A3, W3, b3)\r\n",
    "    \r\n",
    "    return cost, cache"
   ],
   "outputs": [],
   "metadata": {
    "collapsed": true,
    "jupyter": {
     "outputs_hidden": true
    }
   }
  },
  {
   "cell_type": "markdown",
   "source": [
    "Now, run backward propagation."
   ],
   "metadata": {}
  },
  {
   "cell_type": "code",
   "execution_count": 13,
   "source": [
    "def backward_propagation_n(X, Y, cache):\r\n",
    "    \"\"\"\r\n",
    "    Implement the backward propagation presented in figure 2.\r\n",
    "    \r\n",
    "    Arguments:\r\n",
    "    X -- input datapoint, of shape (input size, 1)\r\n",
    "    Y -- true \"label\"\r\n",
    "    cache -- cache output from forward_propagation_n()\r\n",
    "    \r\n",
    "    Returns:\r\n",
    "    gradients -- A dictionary with the gradients of the cost with respect to each parameter, activation and pre-activation variables.\r\n",
    "    \"\"\"\r\n",
    "    \r\n",
    "    m = X.shape[1]\r\n",
    "    (Z1, A1, W1, b1, Z2, A2, W2, b2, Z3, A3, W3, b3) = cache\r\n",
    "    \r\n",
    "    dZ3 = A3 - Y\r\n",
    "    dW3 = 1./m * np.dot(dZ3, A2.T)\r\n",
    "    db3 = 1./m * np.sum(dZ3, axis=1, keepdims = True)\r\n",
    "    \r\n",
    "    dA2 = np.dot(W3.T, dZ3)\r\n",
    "    dZ2 = np.multiply(dA2, np.int64(A2 > 0))\r\n",
    "    dW2 = 1./m * np.dot(dZ2, A1.T) * 2\r\n",
    "    db2 = 1./m * np.sum(dZ2, axis=1, keepdims = True)\r\n",
    "    \r\n",
    "    dA1 = np.dot(W2.T, dZ2)\r\n",
    "    dZ1 = np.multiply(dA1, np.int64(A1 > 0))\r\n",
    "    dW1 = 1./m * np.dot(dZ1, X.T)\r\n",
    "    db1 = 4./m * np.sum(dZ1, axis=1, keepdims = True)\r\n",
    "    \r\n",
    "    gradients = {\"dZ3\": dZ3, \"dW3\": dW3, \"db3\": db3,\r\n",
    "                 \"dA2\": dA2, \"dZ2\": dZ2, \"dW2\": dW2, \"db2\": db2,\r\n",
    "                 \"dA1\": dA1, \"dZ1\": dZ1, \"dW1\": dW1, \"db1\": db1}\r\n",
    "    \r\n",
    "    return gradients"
   ],
   "outputs": [],
   "metadata": {
    "collapsed": true,
    "jupyter": {
     "outputs_hidden": true
    }
   }
  },
  {
   "cell_type": "markdown",
   "source": [
    "You obtained some results on the fraud detection test set but you are not 100% sure of your model. Nobody's perfect! Let's implement gradient checking to verify if your gradients are correct."
   ],
   "metadata": {}
  },
  {
   "cell_type": "markdown",
   "source": [
    "**How does gradient checking work?**.\n",
    "\n",
    "As in 1) and 2), you want to compare \"gradapprox\" to the gradient computed by backpropagation. The formula is still:\n",
    "\n",
    "$$ \\frac{\\partial J}{\\partial \\theta} = \\lim_{\\varepsilon \\to 0} \\frac{J(\\theta + \\varepsilon) - J(\\theta - \\varepsilon)}{2 \\varepsilon} \\tag{1}$$\n",
    "\n",
    "However, $\\theta$ is not a scalar anymore. It is a dictionary called \"parameters\". We implemented a function \"`dictionary_to_vector()`\" for you. It converts the \"parameters\" dictionary into a vector called \"values\", obtained by reshaping all parameters (W1, b1, W2, b2, W3, b3) into vectors and concatenating them.\n",
    "\n",
    "The inverse function is \"`vector_to_dictionary`\" which outputs back the \"parameters\" dictionary.\n",
    "\n",
    "<img src=\"images/dictionary_to_vector.png\" style=\"width:600px;height:400px;\">\n",
    "<caption><center> <u> **Figure 2** </u>: **dictionary_to_vector() and vector_to_dictionary()**<br> You will need these functions in gradient_check_n()</center></caption>\n",
    "\n",
    "We have also converted the \"gradients\" dictionary into a vector \"grad\" using gradients_to_vector(). You don't need to worry about that.\n",
    "\n",
    "**Exercise**: Implement gradient_check_n().\n",
    "\n",
    "**Instructions**: Here is pseudo-code that will help you implement the gradient check.\n",
    "\n",
    "For each i in num_parameters:\n",
    "- To compute `J_plus[i]`:\n",
    "    1. Set $\\theta^{+}$ to `np.copy(parameters_values)`\n",
    "    2. Set $\\theta^{+}_i$ to $\\theta^{+}_i + \\varepsilon$\n",
    "    3. Calculate $J^{+}_i$ using to `forward_propagation_n(x, y, vector_to_dictionary(`$\\theta^{+}$ `))`.     \n",
    "- To compute `J_minus[i]`: do the same thing with $\\theta^{-}$\n",
    "- Compute $gradapprox[i] = \\frac{J^{+}_i - J^{-}_i}{2 \\varepsilon}$\n",
    "\n",
    "Thus, you get a vector gradapprox, where gradapprox[i] is an approximation of the gradient with respect to `parameter_values[i]`. You can now compare this gradapprox vector to the gradients vector from backpropagation. Just like for the 1D case (Steps 1', 2', 3'), compute: \n",
    "$$ difference = \\frac {\\| grad - gradapprox \\|_2}{\\| grad \\|_2 + \\| gradapprox \\|_2 } \\tag{3}$$"
   ],
   "metadata": {}
  },
  {
   "cell_type": "code",
   "execution_count": 16,
   "source": [
    "# GRADED FUNCTION: gradient_check_n\r\n",
    "\r\n",
    "def gradient_check_n(parameters, gradients, X, Y, epsilon = 1e-7):\r\n",
    "    \"\"\"\r\n",
    "    Checks if backward_propagation_n computes correctly the gradient of the cost output by forward_propagation_n\r\n",
    "    \r\n",
    "    Arguments:\r\n",
    "    parameters -- python dictionary containing your parameters \"W1\", \"b1\", \"W2\", \"b2\", \"W3\", \"b3\":\r\n",
    "    grad -- output of backward_propagation_n, contains gradients of the cost with respect to the parameters. \r\n",
    "    x -- input datapoint, of shape (input size, 1)\r\n",
    "    y -- true \"label\"\r\n",
    "    epsilon -- tiny shift to the input to compute approximated gradient with formula(1)\r\n",
    "    \r\n",
    "    Returns:\r\n",
    "    difference -- difference (2) between the approximated gradient and the backward propagation gradient\r\n",
    "    \"\"\"\r\n",
    "    \r\n",
    "    # Set-up variables\r\n",
    "    parameters_values, _ = dictionary_to_vector(parameters)\r\n",
    "    grad = gradients_to_vector(gradients)\r\n",
    "    num_parameters = parameters_values.shape[0]\r\n",
    "    J_plus = np.zeros((num_parameters, 1))\r\n",
    "    J_minus = np.zeros((num_parameters, 1))\r\n",
    "    gradapprox = np.zeros((num_parameters, 1))\r\n",
    "    \r\n",
    "    # Compute gradapprox\r\n",
    "    for i in range(num_parameters):\r\n",
    "        \r\n",
    "        # Compute J_plus[i]. Inputs: \"parameters_values, epsilon\". Output = \"J_plus[i]\".\r\n",
    "        # \"_\" is used because the function you have to outputs two parameters but we only care about the first one\r\n",
    "        ### START CODE HERE ### (approx. 3 lines)\r\n",
    "        thetaplus = np.copy(parameters_values)                                      # Step 1\r\n",
    "        thetaplus[i][0] = thetaplus[i][0] + epsilon                                # Step 2\r\n",
    "        J_plus[i], _ = forward_propagation_n(X, Y, vector_to_dictionary(thetaplus))                                  # Step 3\r\n",
    "        ### END CODE HERE ###\r\n",
    "        \r\n",
    "        # Compute J_minus[i]. Inputs: \"parameters_values, epsilon\". Output = \"J_minus[i]\".\r\n",
    "        ### START CODE HERE ### (approx. 3 lines)\r\n",
    "        thetaminus = np.copy(parameters_values)                                     # Step 1\r\n",
    "        thetaminus[i][0] = thetaminus[i][0] - epsilon                            # Step 2        \r\n",
    "        J_minus[i], _ = forward_propagation_n(X, Y, vector_to_dictionary(thetaminus))                                # Step 3\r\n",
    "        ### END CODE HERE ###\r\n",
    "        \r\n",
    "        # Compute gradapprox[i]\r\n",
    "        ### START CODE HERE ### (approx. 1 line)\r\n",
    "        gradapprox[i] = (J_plus[i] - J_minus[i]) / (2.* epsilon)\r\n",
    "        ### END CODE HERE ###\r\n",
    "    \r\n",
    "    # Compare gradapprox to backward propagation gradients by computing difference.\r\n",
    "    ### START CODE HERE ### (approx. 1 line)\r\n",
    "    numerator = np.linalg.norm(grad - gradapprox)                                           # Step 1'\r\n",
    "    denominator = np.linalg.norm(grad) + np.linalg.norm(gradapprox)                                         # Step 2'\r\n",
    "    difference = numerator / denominator                                         # Step 3'\r\n",
    "    ### END CODE HERE ###\r\n",
    "\r\n",
    "    if difference > 2e-7:\r\n",
    "        print (\"\\033[93m\" + \"There is a mistake in the backward propagation! difference = \" + str(difference) + \"\\033[0m\")\r\n",
    "    else:\r\n",
    "        print (\"\\033[92m\" + \"Your backward propagation works perfectly fine! difference = \" + str(difference) + \"\\033[0m\")\r\n",
    "    \r\n",
    "    return difference\r\n"
   ],
   "outputs": [],
   "metadata": {
    "collapsed": true,
    "jupyter": {
     "outputs_hidden": true
    }
   }
  },
  {
   "cell_type": "code",
   "execution_count": 17,
   "source": [
    "X, Y, parameters = gradient_check_n_test_case()\r\n",
    "\r\n",
    "cost, cache = forward_propagation_n(X, Y, parameters)\r\n",
    "gradients = backward_propagation_n(X, Y, cache)\r\n",
    "difference = gradient_check_n(parameters, gradients, X, Y)"
   ],
   "outputs": [
    {
     "output_type": "stream",
     "name": "stdout",
     "text": [
      "\u001b[93mThere is a mistake in the backward propagation! difference = 0.2850931566540251\u001b[0m\n"
     ]
    }
   ],
   "metadata": {
    "collapsed": true,
    "jupyter": {
     "outputs_hidden": true
    }
   }
  },
  {
   "cell_type": "markdown",
   "source": [
    "**Expected output**:\n",
    "\n",
    "<table>\n",
    "    <tr>\n",
    "        <td>  ** There is a mistake in the backward propagation!**  </td>\n",
    "        <td> difference = 0.285093156781 </td>\n",
    "    </tr>\n",
    "</table>"
   ],
   "metadata": {}
  },
  {
   "cell_type": "markdown",
   "source": [
    "It seems that there were errors in the `backward_propagation_n` code we gave you! Good that you've implemented the gradient check. Go back to `backward_propagation` and try to find/correct the errors *(Hint: check dW2 and db1)*. Rerun the gradient check when you think you've fixed it. Remember you'll need to re-execute the cell defining `backward_propagation_n()` if you modify the code. \n",
    "\n",
    "Can you get gradient check to declare your derivative computation correct? Even though this part of the assignment isn't graded, we strongly urge you to try to find the bug and re-run gradient check until you're convinced backprop is now correctly implemented. \n",
    "\n",
    "**Note** \n",
    "- Gradient Checking is slow! Approximating the gradient with $\\frac{\\partial J}{\\partial \\theta} \\approx  \\frac{J(\\theta + \\varepsilon) - J(\\theta - \\varepsilon)}{2 \\varepsilon}$ is computationally costly. For this reason, we don't run gradient checking at every iteration during training. Just a few times to check if the gradient is correct. \n",
    "- Gradient Checking, at least as we've presented it, doesn't work with dropout. You would usually run the gradient check algorithm without dropout to make sure your backprop is correct, then add dropout. \n",
    "\n",
    "Congrats, you can be confident that your deep learning model for fraud detection is working correctly! You can even use this to convince your CEO. :) \n",
    "\n",
    "<font color='blue'>\n",
    "**What you should remember from this notebook**:\n",
    "- Gradient checking verifies closeness between the gradients from backpropagation and the numerical approximation of the gradient (computed using forward propagation).\n",
    "- Gradient checking is slow, so we don't run it in every iteration of training. You would usually run it only to make sure your code is correct, then turn it off and use backprop for the actual learning process. "
   ],
   "metadata": {}
  },
  {
   "cell_type": "code",
   "execution_count": null,
   "source": [],
   "outputs": [],
   "metadata": {
    "collapsed": true,
    "jupyter": {
     "outputs_hidden": true
    }
   }
  }
 ],
 "metadata": {
  "coursera": {
   "course_slug": "deep-neural-network",
   "graded_item_id": "n6NBD",
   "launcher_item_id": "yfOsE"
  },
  "kernelspec": {
   "name": "python3",
   "display_name": "Python 3.9.7 64-bit ('base': conda)"
  },
  "language_info": {
   "codemirror_mode": {
    "name": "ipython",
    "version": 3
   },
   "file_extension": ".py",
   "mimetype": "text/x-python",
   "name": "python",
   "nbconvert_exporter": "python",
   "pygments_lexer": "ipython3",
   "version": "3.9.7"
  },
  "interpreter": {
   "hash": "abbb4c0f983f8110345ba25d92765afae75a5a0cd93867df7441f3c91f1a0de5"
  }
 },
 "nbformat": 4,
 "nbformat_minor": 4
}