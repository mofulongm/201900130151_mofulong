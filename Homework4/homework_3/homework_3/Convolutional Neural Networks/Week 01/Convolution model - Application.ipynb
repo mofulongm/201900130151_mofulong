{
 "cells": [
  {
   "cell_type": "markdown",
   "source": [
    "# Convolutional Neural Networks: Application\n",
    "\n",
    "Welcome to Course 4's second assignment! In this notebook, you will:\n",
    "\n",
    "- Implement helper functions that you will use when implementing a TensorFlow model\n",
    "- Implement a fully functioning ConvNet using TensorFlow \n",
    "\n",
    "**After this assignment you will be able to:**\n",
    "\n",
    "- Build and train a ConvNet in TensorFlow for a classification problem \n",
    "\n",
    "We assume here that you are already familiar with TensorFlow. If you are not, please refer the *TensorFlow Tutorial* of the third week of Course 2 (\"*Improving deep neural networks*\")."
   ],
   "metadata": {}
  },
  {
   "cell_type": "markdown",
   "source": [
    "## 1.0 - TensorFlow model\n",
    "\n",
    "In the previous assignment, you built helper functions using numpy to understand the mechanics behind convolutional neural networks. Most practical applications of deep learning today are built using programming frameworks, which have many built-in functions you can simply call. \n",
    "\n",
    "As usual, we will start by loading in the packages. "
   ],
   "metadata": {}
  },
  {
   "cell_type": "code",
   "execution_count": 1,
   "source": [
    "import math\r\n",
    "import numpy as np\r\n",
    "import h5py\r\n",
    "import matplotlib.pyplot as plt\r\n",
    "import scipy\r\n",
    "from PIL import Image\r\n",
    "from scipy import ndimage\r\n",
    "import tensorflow as tf\r\n",
    "from tensorflow.python.framework import ops\r\n",
    "from cnn_utils import *\r\n",
    "\r\n",
    "%matplotlib inline\r\n",
    "np.random.seed(1)"
   ],
   "outputs": [
    {
     "output_type": "stream",
     "name": "stderr",
     "text": [
      "C:\\Users\\15339\\miniconda3\\envs\\tensorflow\\lib\\site-packages\\tensorflow\\python\\framework\\dtypes.py:458: FutureWarning: Passing (type, 1) or '1type' as a synonym of type is deprecated; in a future version of numpy, it will be understood as (type, (1,)) / '(1,)type'.\n",
      "  _np_qint8 = np.dtype([(\"qint8\", np.int8, 1)])\n",
      "C:\\Users\\15339\\miniconda3\\envs\\tensorflow\\lib\\site-packages\\tensorflow\\python\\framework\\dtypes.py:459: FutureWarning: Passing (type, 1) or '1type' as a synonym of type is deprecated; in a future version of numpy, it will be understood as (type, (1,)) / '(1,)type'.\n",
      "  _np_quint8 = np.dtype([(\"quint8\", np.uint8, 1)])\n",
      "C:\\Users\\15339\\miniconda3\\envs\\tensorflow\\lib\\site-packages\\tensorflow\\python\\framework\\dtypes.py:460: FutureWarning: Passing (type, 1) or '1type' as a synonym of type is deprecated; in a future version of numpy, it will be understood as (type, (1,)) / '(1,)type'.\n",
      "  _np_qint16 = np.dtype([(\"qint16\", np.int16, 1)])\n",
      "C:\\Users\\15339\\miniconda3\\envs\\tensorflow\\lib\\site-packages\\tensorflow\\python\\framework\\dtypes.py:461: FutureWarning: Passing (type, 1) or '1type' as a synonym of type is deprecated; in a future version of numpy, it will be understood as (type, (1,)) / '(1,)type'.\n",
      "  _np_quint16 = np.dtype([(\"quint16\", np.uint16, 1)])\n",
      "C:\\Users\\15339\\miniconda3\\envs\\tensorflow\\lib\\site-packages\\tensorflow\\python\\framework\\dtypes.py:462: FutureWarning: Passing (type, 1) or '1type' as a synonym of type is deprecated; in a future version of numpy, it will be understood as (type, (1,)) / '(1,)type'.\n",
      "  _np_qint32 = np.dtype([(\"qint32\", np.int32, 1)])\n",
      "C:\\Users\\15339\\miniconda3\\envs\\tensorflow\\lib\\site-packages\\tensorflow\\python\\framework\\dtypes.py:465: FutureWarning: Passing (type, 1) or '1type' as a synonym of type is deprecated; in a future version of numpy, it will be understood as (type, (1,)) / '(1,)type'.\n",
      "  np_resource = np.dtype([(\"resource\", np.ubyte, 1)])\n"
     ]
    }
   ],
   "metadata": {
    "collapsed": true,
    "jupyter": {
     "outputs_hidden": true
    }
   }
  },
  {
   "cell_type": "markdown",
   "source": [
    "Run the next cell to load the \"SIGNS\" dataset you are going to use."
   ],
   "metadata": {}
  },
  {
   "cell_type": "code",
   "execution_count": 2,
   "source": [
    "# Loading the data (signs)\r\n",
    "X_train_orig, Y_train_orig, X_test_orig, Y_test_orig, classes = load_dataset()"
   ],
   "outputs": [],
   "metadata": {
    "collapsed": true,
    "jupyter": {
     "outputs_hidden": true
    }
   }
  },
  {
   "cell_type": "markdown",
   "source": [
    "As a reminder, the SIGNS dataset is a collection of 6 signs representing numbers from 0 to 5.\n",
    "\n",
    "<img src=\"images/SIGNS.png\" style=\"width:800px;height:300px;\">\n",
    "\n",
    "The next cell will show you an example of a labelled image in the dataset. Feel free to change the value of `index` below and re-run to see different examples. "
   ],
   "metadata": {}
  },
  {
   "cell_type": "code",
   "execution_count": 3,
   "source": [
    "# Example of a picture\r\n",
    "index = 6\r\n",
    "plt.imshow(X_train_orig[index])\r\n",
    "print (\"y = \" + str(np.squeeze(Y_train_orig[:, index])))"
   ],
   "outputs": [
    {
     "output_type": "stream",
     "name": "stdout",
     "text": [
      "y = 2\n"
     ]
    },
    {
     "output_type": "display_data",
     "data": {
      "image/png": "[encoded data removed]",
      "text/plain": [
       "<Figure size 432x288 with 1 Axes>"
      ]
     },
     "metadata": {
      "needs_background": "light"
     }
    }
   ],
   "metadata": {
    "collapsed": true,
    "jupyter": {
     "outputs_hidden": true
    }
   }
  },
  {
   "cell_type": "markdown",
   "source": [
    "In Course 2, you had built a fully-connected network for this dataset. But since this is an image dataset, it is more natural to apply a ConvNet to it.\n",
    "\n",
    "To get started, let's examine the shapes of your data. "
   ],
   "metadata": {}
  },
  {
   "cell_type": "code",
   "execution_count": 4,
   "source": [
    "X_train = X_train_orig/255.\r\n",
    "X_test = X_test_orig/255.\r\n",
    "Y_train = convert_to_one_hot(Y_train_orig, 6).T\r\n",
    "Y_test = convert_to_one_hot(Y_test_orig, 6).T\r\n",
    "print (\"number of training examples = \" + str(X_train.shape[0]))\r\n",
    "print (\"number of test examples = \" + str(X_test.shape[0]))\r\n",
    "print (\"X_train shape: \" + str(X_train.shape))\r\n",
    "print (\"Y_train shape: \" + str(Y_train.shape))\r\n",
    "print (\"X_test shape: \" + str(X_test.shape))\r\n",
    "print (\"Y_test shape: \" + str(Y_test.shape))\r\n",
    "conv_layers = {}"
   ],
   "outputs": [
    {
     "output_type": "stream",
     "name": "stdout",
     "text": [
      "number of training examples = 1080\n",
      "number of test examples = 120\n",
      "X_train shape: (1080, 64, 64, 3)\n",
      "Y_train shape: (1080, 6)\n",
      "X_test shape: (120, 64, 64, 3)\n",
      "Y_test shape: (120, 6)\n"
     ]
    }
   ],
   "metadata": {
    "collapsed": true,
    "jupyter": {
     "outputs_hidden": true
    }
   }
  },
  {
   "cell_type": "markdown",
   "source": [
    "### 1.1 - Create placeholders\r\n",
    "\r\n",
    "TensorFlow requires that you create placeholders for the input data that will be fed into the model when running the session.\r\n",
    "\r\n",
    "**Exercise**: Implement the function below to create placeholders for the input image X and the output Y. You should not define the number of training examples for the moment. To do so, you could use \"None\" as the batch size, it will give you the flexibility to choose it later. Hence X should be of dimension **[None, n_H0, n_W0, n_C0]** and Y should be of dimension **[None, n_y]**.  [Hint](https://www.tensorflow.org/api_docs/python/tf/placeholder)."
   ],
   "metadata": {}
  },
  {
   "cell_type": "code",
   "execution_count": 5,
   "source": [
    "# GRADED FUNCTION: create_placeholders\r\n",
    "\r\n",
    "def create_placeholders(n_H0, n_W0, n_C0, n_y):\r\n",
    "    \"\"\"\r\n",
    "    Creates the placeholders for the tensorflow session.\r\n",
    "    \r\n",
    "    Arguments:\r\n",
    "    n_H0 -- scalar, height of an input image\r\n",
    "    n_W0 -- scalar, width of an input image\r\n",
    "    n_C0 -- scalar, number of channels of the input\r\n",
    "    n_y -- scalar, number of classes\r\n",
    "        \r\n",
    "    Returns:\r\n",
    "    X -- placeholder for the data input, of shape [None, n_H0, n_W0, n_C0] and dtype \"float\"\r\n",
    "    Y -- placeholder for the input labels, of shape [None, n_y] and dtype \"float\"\r\n",
    "    \"\"\"\r\n",
    "\r\n",
    "    ### START CODE HERE ### (≈2 lines)\r\n",
    "    X = tf.placeholder(tf.float32, shape=(None, n_H0, n_W0, n_C0))\r\n",
    "    Y = tf.placeholder(tf.float32,shape=(None,n_y))\r\n",
    "    ### END CODE HERE ###\r\n",
    "    \r\n",
    "    return X, Y"
   ],
   "outputs": [],
   "metadata": {
    "collapsed": true,
    "jupyter": {
     "outputs_hidden": true
    }
   }
  },
  {
   "cell_type": "code",
   "execution_count": 6,
   "source": [
    "X, Y = create_placeholders(64, 64, 3, 6)\r\n",
    "print (\"X = \" + str(X))\r\n",
    "print (\"Y = \" + str(Y))"
   ],
   "outputs": [
    {
     "output_type": "stream",
     "name": "stdout",
     "text": [
      "X = Tensor(\"Placeholder:0\", shape=(?, 64, 64, 3), dtype=float32)\n",
      "Y = Tensor(\"Placeholder_1:0\", shape=(?, 6), dtype=float32)\n"
     ]
    }
   ],
   "metadata": {
    "collapsed": true,
    "jupyter": {
     "outputs_hidden": true
    }
   }
  },
  {
   "cell_type": "markdown",
   "source": [
    "**Expected Output**\n",
    "\n",
    "<table> \n",
    "<tr>\n",
    "<td>\n",
    "    X = Tensor(\"Placeholder:0\", shape=(?, 64, 64, 3), dtype=float32)\n",
    "\n",
    "</td>\n",
    "</tr>\n",
    "<tr>\n",
    "<td>\n",
    "    Y = Tensor(\"Placeholder_1:0\", shape=(?, 6), dtype=float32)\n",
    "\n",
    "</td>\n",
    "</tr>\n",
    "</table>"
   ],
   "metadata": {}
  },
  {
   "cell_type": "markdown",
   "source": [
    "### 1.2 - Initialize parameters\n",
    "\n",
    "You will initialize weights/filters $W1$ and $W2$ using `tf.contrib.layers.xavier_initializer(seed = 0)`. You don't need to worry about bias variables as you will soon see that TensorFlow functions take care of the bias. Note also that you will only initialize the weights/filters for the conv2d functions. TensorFlow initializes the layers for the fully connected part automatically. We will talk more about that later in this assignment.\n",
    "\n",
    "**Exercise:** Implement initialize_parameters(). The dimensions for each group of filters are provided below. Reminder - to initialize a parameter $W$ of shape [1,2,3,4] in Tensorflow, use:\n",
    "```python\n",
    "W = tf.get_variable(\"W\", [1,2,3,4], initializer = ...)\n",
    "```\n",
    "[More Info](https://www.tensorflow.org/api_docs/python/tf/get_variable)."
   ],
   "metadata": {}
  },
  {
   "cell_type": "code",
   "execution_count": 7,
   "source": [
    "# GRADED FUNCTION: initialize_parameters\r\n",
    "\r\n",
    "def initialize_parameters():\r\n",
    "    \"\"\"\r\n",
    "    Initializes weight parameters to build a neural network with tensorflow. The shapes are:\r\n",
    "                        W1 : [4, 4, 3, 8]\r\n",
    "                        W2 : [2, 2, 8, 16]\r\n",
    "    Returns:\r\n",
    "    parameters -- a dictionary of tensors containing W1, W2\r\n",
    "    \"\"\"\r\n",
    "    \r\n",
    "    tf.set_random_seed(1)                              # so that your \"random\" numbers match ours\r\n",
    "        \r\n",
    "    ### START CODE HERE ### (approx. 2 lines of code)\r\n",
    "    W1 = tf.get_variable(\"W1\", [4, 4, 3, 8], initializer=tf.contrib.layers.xavier_initializer(seed=0))\r\n",
    "    W2 = tf.get_variable(\"W2\", [2, 2, 8, 16], initializer=tf.contrib.layers.xavier_initializer(seed=0))\r\n",
    "    ### END CODE HERE ###\r\n",
    "\r\n",
    "    parameters = {\"W1\": W1,\r\n",
    "                  \"W2\": W2}\r\n",
    "    \r\n",
    "    return parameters"
   ],
   "outputs": [],
   "metadata": {
    "collapsed": true,
    "jupyter": {
     "outputs_hidden": true
    }
   }
  },
  {
   "cell_type": "code",
   "execution_count": 8,
   "source": [
    "tf.reset_default_graph()\r\n",
    "with tf.Session() as sess_test:\r\n",
    "    parameters = initialize_parameters()\r\n",
    "    init = tf.global_variables_initializer()\r\n",
    "    sess_test.run(init)\r\n",
    "    print(\"W1 = \" + str(parameters[\"W1\"].eval()[1,1,1]))\r\n",
    "    print(\"W2 = \" + str(parameters[\"W2\"].eval()[1,1,1]))"
   ],
   "outputs": [
    {
     "output_type": "stream",
     "name": "stdout",
     "text": [
      "W1 = [ 0.00131723  0.1417614  -0.04434952  0.09197326  0.14984085 -0.03514394\n",
      " -0.06847463  0.05245192]\n",
      "W2 = [-0.08566415  0.17750949  0.11974221  0.16773748 -0.0830943  -0.08058\n",
      " -0.00577033 -0.14643836  0.24162132 -0.05857408 -0.19055021  0.1345228\n",
      " -0.22779644 -0.1601823  -0.16117483 -0.10286498]\n"
     ]
    }
   ],
   "metadata": {
    "collapsed": true,
    "jupyter": {
     "outputs_hidden": true
    }
   }
  },
  {
   "cell_type": "markdown",
   "source": [
    "** Expected Output:**\n",
    "\n",
    "<table> \n",
    "\n",
    "<tr>\n",
    "        <td>\n",
    "        W1 = \n",
    "        </td>\n",
    "        <td>\n",
    "[ 0.00131723  0.14176141 -0.04434952  0.09197326  0.14984085 -0.03514394 <br>\n",
    " -0.06847463  0.05245192]\n",
    "        </td>\n",
    "    </tr>\n",
    "<tr>\n",
    "        <td>\n",
    "        W2 = \n",
    "        </td>\n",
    "        <td>\n",
    "[-0.08566415  0.17750949  0.11974221  0.16773748 -0.0830943  -0.08058 <br>\n",
    " -0.00577033 -0.14643836  0.24162132 -0.05857408 -0.19055021  0.1345228 <br>\n",
    " -0.22779644 -0.1601823  -0.16117483 -0.10286498]\n",
    "        </td>\n",
    "    </tr>\n",
    "\n",
    "</table>"
   ],
   "metadata": {}
  },
  {
   "cell_type": "markdown",
   "source": [
    "### 1.2 - Forward propagation\n",
    "\n",
    "In TensorFlow, there are built-in functions that carry out the convolution steps for you.\n",
    "\n",
    "- **tf.nn.conv2d(X,W1, strides = [1,s,s,1], padding = 'SAME'):** given an input $X$ and a group of filters $W1$, this function convolves $W1$'s filters on X. The third input ([1,f,f,1]) represents the strides for each dimension of the input (m, n_H_prev, n_W_prev, n_C_prev). You can read the full documentation [here](https://www.tensorflow.org/api_docs/python/tf/nn/conv2d)\n",
    "\n",
    "- **tf.nn.max_pool(A, ksize = [1,f,f,1], strides = [1,s,s,1], padding = 'SAME'):** given an input A, this function uses a window of size (f, f) and strides of size (s, s) to carry out max pooling over each window. You can read the full documentation [here](https://www.tensorflow.org/api_docs/python/tf/nn/max_pool)\n",
    "\n",
    "- **tf.nn.relu(Z1):** computes the elementwise ReLU of Z1 (which can be any shape). You can read the full documentation [here.](https://www.tensorflow.org/api_docs/python/tf/nn/relu)\n",
    "\n",
    "- **tf.contrib.layers.flatten(P)**: given an input P, this function flattens each example into a 1D vector it while maintaining the batch-size. It returns a flattened tensor with shape [batch_size, k]. You can read the full documentation [here.](https://www.tensorflow.org/api_docs/python/tf/contrib/layers/flatten)\n",
    "\n",
    "- **tf.contrib.layers.fully_connected(F, num_outputs):** given a the flattened input F, it returns the output computed using a fully connected layer. You can read the full documentation [here.](https://www.tensorflow.org/api_docs/python/tf/contrib/layers/fully_connected)\n",
    "\n",
    "In the last function above (`tf.contrib.layers.fully_connected`), the fully connected layer automatically initializes weights in the graph and keeps on training them as you train the model. Hence, you did not need to initialize those weights when initializing the parameters. \n",
    "\n",
    "\n",
    "**Exercise**: \n",
    "\n",
    "Implement the `forward_propagation` function below to build the following model: `CONV2D -> RELU -> MAXPOOL -> CONV2D -> RELU -> MAXPOOL -> FLATTEN -> FULLYCONNECTED`. You should use the functions above. \n",
    "\n",
    "In detail, we will use the following parameters for all the steps:\n",
    "     - Conv2D: stride 1, padding is \"SAME\"\n",
    "     - ReLU\n",
    "     - Max pool: Use an 8 by 8 filter size and an 8 by 8 stride, padding is \"SAME\"\n",
    "     - Conv2D: stride 1, padding is \"SAME\"\n",
    "     - ReLU\n",
    "     - Max pool: Use a 4 by 4 filter size and a 4 by 4 stride, padding is \"SAME\"\n",
    "     - Flatten the previous output.\n",
    "     - FULLYCONNECTED (FC) layer: Apply a fully connected layer without an non-linear activation function. Do not call the softmax here. This will result in 6 neurons in the output layer, which then get passed later to a softmax. In TensorFlow, the softmax and cost function are lumped together into a single function, which you'll call in a different function when computing the cost. "
   ],
   "metadata": {}
  },
  {
   "cell_type": "code",
   "execution_count": 9,
   "source": [
    "# GRADED FUNCTION: forward_propagation\r\n",
    "\r\n",
    "def forward_propagation(X, parameters):\r\n",
    "    \"\"\"\r\n",
    "    Implements the forward propagation for the model:\r\n",
    "    CONV2D -> RELU -> MAXPOOL -> CONV2D -> RELU -> MAXPOOL -> FLATTEN -> FULLYCONNECTED\r\n",
    "    \r\n",
    "    Arguments:\r\n",
    "    X -- input dataset placeholder, of shape (input size, number of examples)\r\n",
    "    parameters -- python dictionary containing your parameters \"W1\", \"W2\"\r\n",
    "                  the shapes are given in initialize_parameters\r\n",
    "\r\n",
    "    Returns:\r\n",
    "    Z3 -- the output of the last LINEAR unit\r\n",
    "    \"\"\"\r\n",
    "    \r\n",
    "    # Retrieve the parameters from the dictionary \"parameters\" \r\n",
    "    W1 = parameters['W1']\r\n",
    "    W2 = parameters['W2']\r\n",
    "    \r\n",
    "    ### START CODE HERE ###\r\n",
    "    # CONV2D: stride of 1, padding 'SAME'\r\n",
    "    Z1 = tf.nn.conv2d(X, W1, strides=(1, 1, 1, 1), padding='SAME') \r\n",
    "    # RELU\r\n",
    "    A1 = tf.nn.relu(Z1)\r\n",
    "    # MAXPOOL: window 8x8, sride 8, padding 'SAME'\r\n",
    "    P1 = tf.nn.max_pool(A1, ksize=(1, 8, 8, 1), strides=(1, 8, 8, 1), padding='SAME')\r\n",
    "    # CONV2D: filters W2, stride 1, padding 'SAME'\r\n",
    "    Z2 = tf.nn.conv2d(P1,W2,strides=(1,1,1,1),padding='SAME')\r\n",
    "    # RELU\r\n",
    "    A2 = tf.nn.relu(Z2)\r\n",
    "    # MAXPOOL: window 4x4, stride 4, padding 'SAME'\r\n",
    "    P2 = tf.nn.max_pool(A2, ksize=(1, 4, 4, 1), strides=(1, 4, 4, 1), padding='SAME')\r\n",
    "    # FLATTEN\r\n",
    "    P2 = tf.contrib.layers.flatten(P2)\r\n",
    "    # FULLY-CONNECTED without non-linear activation function (not not call softmax).\r\n",
    "    # 6 neurons in output layer. Hint: one of the arguments should be \"activation_fn=None\" \r\n",
    "    Z3 = tf.contrib.layers.fully_connected(P2, num_outputs = 6, activation_fn=None)\r\n",
    "    ### END CODE HERE ###\r\n",
    "\r\n",
    "    return Z3"
   ],
   "outputs": [],
   "metadata": {
    "collapsed": true,
    "jupyter": {
     "outputs_hidden": true
    }
   }
  },
  {
   "cell_type": "code",
   "execution_count": 10,
   "source": [
    "tf.reset_default_graph()\r\n",
    "\r\n",
    "with tf.Session() as sess:\r\n",
    "    np.random.seed(1)\r\n",
    "    X, Y = create_placeholders(64, 64, 3, 6)\r\n",
    "    parameters = initialize_parameters()\r\n",
    "    Z3 = forward_propagation(X, parameters)\r\n",
    "    init = tf.global_variables_initializer()\r\n",
    "    sess.run(init)\r\n",
    "    a = sess.run(Z3, {X: np.random.randn(2,64,64,3), Y: np.random.randn(2,6)})\r\n",
    "    print(\"Z3 = \" + str(a))"
   ],
   "outputs": [
    {
     "output_type": "stream",
     "name": "stdout",
     "text": [
      "Z3 = [[-0.44670227 -1.5720876  -1.5304923  -2.3101304  -1.2910438   0.46852064]\n",
      " [-0.17601591 -1.5797201  -1.4737016  -2.616721   -1.0081065   0.5747785 ]]\n"
     ]
    }
   ],
   "metadata": {
    "collapsed": true,
    "jupyter": {
     "outputs_hidden": true
    }
   }
  },
  {
   "cell_type": "markdown",
   "source": [
    "**Expected Output**:\n",
    "\n",
    "<table> \n",
    "    <td> \n",
    "    Z3 =\n",
    "    </td>\n",
    "    <td>\n",
    "    [[-0.44670227 -1.5720876  -1.5304923  -2.3101304  -1.2910438   0.46852064] <br>\n",
    " [-0.17601591 -1.5797201  -1.4737016  -2.616721   -1.0081065   0.5747785 ]]\n",
    "    </td>\n",
    "</table>"
   ],
   "metadata": {}
  },
  {
   "cell_type": "markdown",
   "source": [
    "### 1.3 - Compute cost\n",
    "\n",
    "Implement the compute cost function below. You might find these two functions helpful: \n",
    "\n",
    "- **tf.nn.softmax_cross_entropy_with_logits(logits = Z3, labels = Y):** computes the softmax entropy loss. This function both computes the softmax activation function as well as the resulting loss. You can check the full documentation  [here.](https://www.tensorflow.org/api_docs/python/tf/nn/softmax_cross_entropy_with_logits)\n",
    "- **tf.reduce_mean:** computes the mean of elements across dimensions of a tensor. Use this to sum the losses over all the examples to get the overall cost. You can check the full documentation [here.](https://www.tensorflow.org/api_docs/python/tf/reduce_mean)\n",
    "\n",
    "** Exercise**: Compute the cost below using the function above."
   ],
   "metadata": {}
  },
  {
   "cell_type": "code",
   "execution_count": 11,
   "source": [
    "# GRADED FUNCTION: compute_cost \r\n",
    "\r\n",
    "def compute_cost(Z3, Y):\r\n",
    "    \"\"\"\r\n",
    "    Computes the cost\r\n",
    "    \r\n",
    "    Arguments:\r\n",
    "    Z3 -- output of forward propagation (output of the last LINEAR unit), of shape (6, number of examples)\r\n",
    "    Y -- \"true\" labels vector placeholder, same shape as Z3\r\n",
    "    \r\n",
    "    Returns:\r\n",
    "    cost - Tensor of the cost function\r\n",
    "    \"\"\"\r\n",
    "    \r\n",
    "    ### START CODE HERE ### (1 line of code)\r\n",
    "    cost = tf.reduce_mean(tf.nn.softmax_cross_entropy_with_logits(logits = Z3, labels = Y))\r\n",
    "    ### END CODE HERE ###\r\n",
    "    \r\n",
    "    return cost"
   ],
   "outputs": [],
   "metadata": {
    "collapsed": true,
    "jupyter": {
     "outputs_hidden": true
    }
   }
  },
  {
   "cell_type": "code",
   "execution_count": 12,
   "source": [
    "tf.reset_default_graph()\r\n",
    "\r\n",
    "with tf.Session() as sess:\r\n",
    "    np.random.seed(1)\r\n",
    "    X, Y = create_placeholders(64, 64, 3, 6)\r\n",
    "    parameters = initialize_parameters()\r\n",
    "    Z3 = forward_propagation(X, parameters)\r\n",
    "    cost = compute_cost(Z3, Y)\r\n",
    "    init = tf.global_variables_initializer()\r\n",
    "    sess.run(init)\r\n",
    "    a = sess.run(cost, {X: np.random.randn(4,64,64,3), Y: np.random.randn(4,6)})\r\n",
    "    print(\"cost = \" + str(a))"
   ],
   "outputs": [
    {
     "output_type": "stream",
     "name": "stdout",
     "text": [
      "cost = 2.9103398\n"
     ]
    }
   ],
   "metadata": {
    "collapsed": true,
    "jupyter": {
     "outputs_hidden": true
    }
   }
  },
  {
   "cell_type": "markdown",
   "source": [
    "**Expected Output**: \n",
    "\n",
    "<table>\n",
    "<td> \n",
    "    cost =\n",
    "    </td> \n",
    "    \n",
    "<td> \n",
    "2.9103398\n",
    "    </td> \n",
    "</table>"
   ],
   "metadata": {}
  },
  {
   "cell_type": "markdown",
   "source": [
    "## 1.4 Model \n",
    "\n",
    "Finally you will merge the helper functions you implemented above to build a model. You will train it on the SIGNS dataset. \n",
    "\n",
    "You have implemented `random_mini_batches()` in the Optimization programming assignment of course 2. Remember that this function returns a list of mini-batches. \n",
    "\n",
    "**Exercise**: Complete the function below. \n",
    "\n",
    "The model below should:\n",
    "\n",
    "- create placeholders\n",
    "- initialize parameters\n",
    "- forward propagate\n",
    "- compute the cost\n",
    "- create an optimizer\n",
    "\n",
    "Finally you will create a session and run a for loop  for num_epochs, get the mini-batches, and then for each mini-batch you will optimize the function. [Hint for initializing the variables](https://www.tensorflow.org/api_docs/python/tf/global_variables_initializer)"
   ],
   "metadata": {}
  },
  {
   "cell_type": "code",
   "execution_count": 13,
   "source": [
    "# GRADED FUNCTION: model\r\n",
    "\r\n",
    "def model(X_train, Y_train, X_test, Y_test, learning_rate = 0.009,\r\n",
    "          num_epochs = 100, minibatch_size = 64, print_cost = True):\r\n",
    "    \"\"\"\r\n",
    "    Implements a three-layer ConvNet in Tensorflow:\r\n",
    "    CONV2D -> RELU -> MAXPOOL -> CONV2D -> RELU -> MAXPOOL -> FLATTEN -> FULLYCONNECTED\r\n",
    "    \r\n",
    "    Arguments:\r\n",
    "    X_train -- training set, of shape (None, 64, 64, 3)\r\n",
    "    Y_train -- test set, of shape (None, n_y = 6)\r\n",
    "    X_test -- training set, of shape (None, 64, 64, 3)\r\n",
    "    Y_test -- test set, of shape (None, n_y = 6)\r\n",
    "    learning_rate -- learning rate of the optimization\r\n",
    "    num_epochs -- number of epochs of the optimization loop\r\n",
    "    minibatch_size -- size of a minibatch\r\n",
    "    print_cost -- True to print the cost every 100 epochs\r\n",
    "    \r\n",
    "    Returns:\r\n",
    "    train_accuracy -- real number, accuracy on the train set (X_train)\r\n",
    "    test_accuracy -- real number, testing accuracy on the test set (X_test)\r\n",
    "    parameters -- parameters learnt by the model. They can then be used to predict.\r\n",
    "    \"\"\"\r\n",
    "    \r\n",
    "    ops.reset_default_graph()                         # to be able to rerun the model without overwriting tf variables\r\n",
    "    tf.set_random_seed(1)                             # to keep results consistent (tensorflow seed)\r\n",
    "    seed = 3                                          # to keep results consistent (numpy seed)\r\n",
    "    (m, n_H0, n_W0, n_C0) = X_train.shape             \r\n",
    "    n_y = Y_train.shape[1]                            \r\n",
    "    costs = []                                        # To keep track of the cost\r\n",
    "    \r\n",
    "    # Create Placeholders of the correct shape\r\n",
    "    ### START CODE HERE ### (1 line)\r\n",
    "    X, Y = create_placeholders(n_H0,n_W0,n_C0,n_y)\r\n",
    "    ### END CODE HERE ###\r\n",
    "\r\n",
    "    # Initialize parameters\r\n",
    "    ### START CODE HERE ### (1 line)\r\n",
    "    parameters = initialize_parameters()\r\n",
    "    ### END CODE HERE ###\r\n",
    "    \r\n",
    "    # Forward propagation: Build the forward propagation in the tensorflow graph\r\n",
    "    ### START CODE HERE ### (1 line)\r\n",
    "    Z3 = forward_propagation(X,parameters)\r\n",
    "    ### END CODE HERE ###\r\n",
    "    \r\n",
    "    # Cost function: Add cost function to tensorflow graph\r\n",
    "    ### START CODE HERE ### (1 line)\r\n",
    "    cost = compute_cost(Z3,Y)\r\n",
    "    ### END CODE HERE ###\r\n",
    "    \r\n",
    "    # Backpropagation: Define the tensorflow optimizer. Use an AdamOptimizer that minimizes the cost.\r\n",
    "    ### START CODE HERE ### (1 line)\r\n",
    "    optimizer =tf.train.AdamOptimizer(learning_rate = learning_rate).minimize(cost)\r\n",
    "    ### END CODE HERE ### \r\n",
    "    \r\n",
    "    # Initialize all the variables globally\r\n",
    "    init = tf.global_variables_initializer()\r\n",
    "     \r\n",
    "    # Start the session to compute the tensorflow graph\r\n",
    "    with tf.Session() as sess:\r\n",
    "        \r\n",
    "        # Run the initialization\r\n",
    "        sess.run(init)\r\n",
    "        \r\n",
    "        # Do the training loop\r\n",
    "        for epoch in range(num_epochs):\r\n",
    "\r\n",
    "            minibatch_cost = 0.\r\n",
    "            num_minibatches = int(m / minibatch_size) # number of minibatches of size minibatch_size in the train set\r\n",
    "            seed = seed + 1\r\n",
    "            minibatches = random_mini_batches(X_train, Y_train, minibatch_size, seed)\r\n",
    "\r\n",
    "            for minibatch in minibatches:\r\n",
    "\r\n",
    "                # Select a minibatch\r\n",
    "                (minibatch_X, minibatch_Y) = minibatch\r\n",
    "                # IMPORTANT: The line that runs the graph on a minibatch.\r\n",
    "                # Run the session to execute the optimizer and the cost, the feedict should contain a minibatch for (X,Y).\r\n",
    "                ### START CODE HERE ### (1 line)\r\n",
    "                _ , temp_cost =sess.run([optimizer, cost], feed_dict={X: minibatch_X, Y: minibatch_Y})\r\n",
    "                ### END CODE HERE ###\r\n",
    "                \r\n",
    "                minibatch_cost += temp_cost / num_minibatches\r\n",
    "                \r\n",
    "\r\n",
    "            # Print the cost every epoch\r\n",
    "            if print_cost == True and epoch % 5 == 0:\r\n",
    "                print (\"Cost after epoch %i: %f\" % (epoch, minibatch_cost))\r\n",
    "            if print_cost == True and epoch % 1 == 0:\r\n",
    "                costs.append(minibatch_cost)\r\n",
    "        \r\n",
    "        \r\n",
    "        # plot the cost\r\n",
    "        plt.plot(np.squeeze(costs))\r\n",
    "        plt.ylabel('cost')\r\n",
    "        plt.xlabel('iterations (per tens)')\r\n",
    "        plt.title(\"Learning rate =\" + str(learning_rate))\r\n",
    "        plt.show()\r\n",
    "\r\n",
    "        # Calculate the correct predictions\r\n",
    "        predict_op = tf.argmax(Z3, 1)\r\n",
    "        correct_prediction = tf.equal(predict_op, tf.argmax(Y, 1))\r\n",
    "        \r\n",
    "        # Calculate accuracy on the test set\r\n",
    "        accuracy = tf.reduce_mean(tf.cast(correct_prediction, \"float\"))\r\n",
    "        print(accuracy)\r\n",
    "        train_accuracy = accuracy.eval({X: X_train, Y: Y_train})\r\n",
    "        test_accuracy = accuracy.eval({X: X_test, Y: Y_test})\r\n",
    "        print(\"Train Accuracy:\", train_accuracy)\r\n",
    "        print(\"Test Accuracy:\", test_accuracy)\r\n",
    "                \r\n",
    "        return train_accuracy, test_accuracy, parameters"
   ],
   "outputs": [],
   "metadata": {
    "collapsed": true,
    "jupyter": {
     "outputs_hidden": true
    }
   }
  },
  {
   "cell_type": "markdown",
   "source": [
    "Run the following cell to train your model for 100 epochs. Check if your cost after epoch 0 and 5 matches our output. If not, stop the cell and go back to your code!"
   ],
   "metadata": {}
  },
  {
   "cell_type": "code",
   "execution_count": 14,
   "source": [
    "_, _, parameters = model(X_train, Y_train, X_test, Y_test)"
   ],
   "outputs": [
    {
     "output_type": "stream",
     "name": "stdout",
     "text": [
      "Cost after epoch 0: 1.917920\n",
      "Cost after epoch 5: 1.532475\n",
      "Cost after epoch 10: 1.014804\n",
      "Cost after epoch 15: 0.885137\n",
      "Cost after epoch 20: 0.766963\n",
      "Cost after epoch 25: 0.651208\n",
      "Cost after epoch 30: 0.613356\n",
      "Cost after epoch 35: 0.605931\n",
      "Cost after epoch 40: 0.534713\n",
      "Cost after epoch 45: 0.551402\n",
      "Cost after epoch 50: 0.496976\n",
      "Cost after epoch 55: 0.454438\n",
      "Cost after epoch 60: 0.455496\n",
      "Cost after epoch 65: 0.458359\n",
      "Cost after epoch 70: 0.450040\n",
      "Cost after epoch 75: 0.410687\n",
      "Cost after epoch 80: 0.469005\n",
      "Cost after epoch 85: 0.389253\n",
      "Cost after epoch 90: 0.363808\n",
      "Cost after epoch 95: 0.376132\n"
     ]
    },
    {
     "output_type": "display_data",
     "data": {
      "image/png": "[encoded data removed]",
      "text/plain": [
       "<Figure size 432x288 with 1 Axes>"
      ]
     },
     "metadata": {
      "needs_background": "light"
     }
    },
    {
     "output_type": "stream",
     "name": "stdout",
     "text": [
      "Tensor(\"Mean_1:0\", shape=(), dtype=float32)\n",
      "Train Accuracy: 0.86851853\n",
      "Test Accuracy: 0.73333335\n"
     ]
    }
   ],
   "metadata": {
    "collapsed": true,
    "jupyter": {
     "outputs_hidden": true
    }
   }
  },
  {
   "cell_type": "markdown",
   "source": [
    "**Expected output**: although it may not match perfectly, your expected output should be close to ours and your cost value should decrease.\n",
    "\n",
    "<table> \n",
    "<tr>\n",
    "    <td> \n",
    "    **Cost after epoch 0 =**\n",
    "    </td>\n",
    "<td> \n",
    "     1.917920\n",
    "    </td> \n",
    "</tr>\n",
    "<tr>\n",
    "    <td> \n",
    "    **Cost after epoch 5 =**\n",
    "    </td>\n",
    "    <td> \n",
    "      1.532475\n",
    "    </td> \n",
    "</tr>\n",
    "<tr>\n",
    "    <td> \n",
    "    **Train Accuracy   =**\n",
    "    </td>\n",
    "<td> \n",
    "     0.86851853\n",
    "    </td> \n",
    "</tr> \n",
    "\n",
    "<tr>\n",
    "    <td> \n",
    "    **Test Accuracy   =**\n",
    "    </td>\n",
    "<td> \n",
    "     0.73333335\n",
    "    </td> \n",
    "</tr> \n",
    "</table>"
   ],
   "metadata": {}
  },
  {
   "cell_type": "markdown",
   "source": [
    "Congratulations! You have finised the assignment and built a model that recognizes SIGN language with almost 80% accuracy on the test set. If you wish, feel free to play around with this dataset further. You can actually improve its accuracy by spending more time tuning the hyperparameters, or using regularization (as this model clearly has a high variance). \n",
    "\n",
    "Once again, here's a thumbs up for your work! "
   ],
   "metadata": {}
  },
  {
   "cell_type": "code",
   "execution_count": 15,
   "source": [
    "import imageio\r\n",
    "from PIL import Image\r\n",
    "fname = \"images/thumbs_up.jpg\"\r\n",
    "my_image = np.array(Image.fromarray(imageio.imread(fname)).resize((64,64)))\r\n",
    "plt.imshow(my_image)"
   ],
   "outputs": [
    {
     "output_type": "execute_result",
     "data": {
      "text/plain": [
       "<matplotlib.image.AxesImage at 0x20286a3a4e0>"
      ]
     },
     "metadata": {},
     "execution_count": 15
    },
    {
     "output_type": "display_data",
     "data": {
      "image/png": "[encoded data removed]",
      "text/plain": [
       "<Figure size 432x288 with 1 Axes>"
      ]
     },
     "metadata": {
      "needs_background": "light"
     }
    }
   ],
   "metadata": {
    "collapsed": true,
    "jupyter": {
     "outputs_hidden": true
    }
   }
  }
 ],
 "metadata": {
  "coursera": {
   "course_slug": "convolutional-neural-networks",
   "graded_item_id": "bwbJV",
   "launcher_item_id": "0TkXB"
  },
  "kernelspec": {
   "name": "python3",
   "display_name": "Python 3.6.13 64-bit ('tensorflow': conda)"
  },
  "language_info": {
   "codemirror_mode": {
    "name": "ipython",
    "version": 3
   },
   "file_extension": ".py",
   "mimetype": "text/x-python",
   "name": "python",
   "nbconvert_exporter": "python",
   "pygments_lexer": "ipython3",
   "version": "3.6.13"
  },
  "interpreter": {
   "hash": "68107679553ef44d481a11c3fb16b8b6ddeb1fe002b2532a32e01ec5704a57b7"
  }
 },
 "nbformat": 4,
 "nbformat_minor": 4
}