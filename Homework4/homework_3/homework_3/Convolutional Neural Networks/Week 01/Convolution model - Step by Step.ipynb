{
 "cells": [
  {
   "cell_type": "markdown",
   "source": [
    "# Convolutional Neural Networks: Step by Step\n",
    "\n",
    "Welcome to Course 4's first assignment! In this assignment, you will implement convolutional (CONV) and pooling (POOL) layers in numpy, including both forward propagation and (optionally) backward propagation. \n",
    "\n",
    "**Notation**:\n",
    "- Superscript $[l]$ denotes an object of the $l^{th}$ layer. \n",
    "    - Example: $a^{[4]}$ is the $4^{th}$ layer activation. $W^{[5]}$ and $b^{[5]}$ are the $5^{th}$ layer parameters.\n",
    "\n",
    "\n",
    "- Superscript $(i)$ denotes an object from the $i^{th}$ example. \n",
    "    - Example: $x^{(i)}$ is the $i^{th}$ training example input.\n",
    "    \n",
    "    \n",
    "- Lowerscript $i$ denotes the $i^{th}$ entry of a vector.\n",
    "    - Example: $a^{[l]}_i$ denotes the $i^{th}$ entry of the activations in layer $l$, assuming this is a fully connected (FC) layer.\n",
    "    \n",
    "    \n",
    "- $n_H$, $n_W$ and $n_C$ denote respectively the height, width and number of channels of a given layer. If you want to reference a specific layer $l$, you can also write $n_H^{[l]}$, $n_W^{[l]}$, $n_C^{[l]}$. \n",
    "- $n_{H_{prev}}$, $n_{W_{prev}}$ and $n_{C_{prev}}$ denote respectively the height, width and number of channels of the previous layer. If referencing a specific layer $l$, this could also be denoted $n_H^{[l-1]}$, $n_W^{[l-1]}$, $n_C^{[l-1]}$. \n",
    "\n",
    "We assume that you are already familiar with `numpy` and/or have completed the previous courses of the specialization. Let's get started!"
   ],
   "metadata": {}
  },
  {
   "cell_type": "markdown",
   "source": [
    "## 1 - Packages\n",
    "\n",
    "Let's first import all the packages that you will need during this assignment. \n",
    "- [numpy](www.numpy.org) is the fundamental package for scientific computing with Python.\n",
    "- [matplotlib](http://matplotlib.org) is a library to plot graphs in Python.\n",
    "- np.random.seed(1) is used to keep all the random function calls consistent. It will help us grade your work."
   ],
   "metadata": {}
  },
  {
   "cell_type": "code",
   "execution_count": 1,
   "source": [
    "import numpy as np\r\n",
    "import h5py\r\n",
    "import matplotlib.pyplot as plt\r\n",
    "\r\n",
    "%matplotlib inline\r\n",
    "plt.rcParams['figure.figsize'] = (5.0, 4.0) # set default size of plots\r\n",
    "plt.rcParams['image.interpolation'] = 'nearest'\r\n",
    "plt.rcParams['image.cmap'] = 'gray'\r\n",
    "\r\n",
    "%load_ext autoreload\r\n",
    "%autoreload 2\r\n",
    "\r\n",
    "np.random.seed(1)"
   ],
   "outputs": [],
   "metadata": {
    "collapsed": true,
    "jupyter": {
     "outputs_hidden": true
    }
   }
  },
  {
   "cell_type": "markdown",
   "source": [
    "## 2 - Outline of the Assignment\n",
    "\n",
    "You will be implementing the building blocks of a convolutional neural network! Each function you will implement will have detailed instructions that will walk you through the steps needed:\n",
    "\n",
    "- Convolution functions, including:\n",
    "    - Zero Padding\n",
    "    - Convolve window \n",
    "    - Convolution forward\n",
    "    - Convolution backward (optional)\n",
    "- Pooling functions, including:\n",
    "    - Pooling forward\n",
    "    - Create mask \n",
    "    - Distribute value\n",
    "    - Pooling backward (optional)\n",
    "    \n",
    "This notebook will ask you to implement these functions from scratch in `numpy`. In the next notebook, you will use the TensorFlow equivalents of these functions to build the following model:\n",
    "\n",
    "<img src=\"images/model.png\" style=\"width:800px;height:300px;\">\n",
    "\n",
    "**Note** that for every forward function, there is its corresponding backward equivalent. Hence, at every step of your forward module you will store some parameters in a cache. These parameters are used to compute gradients during backpropagation. "
   ],
   "metadata": {}
  },
  {
   "cell_type": "markdown",
   "source": [
    "## 3 - Convolutional Neural Networks\n",
    "\n",
    "Although programming frameworks make convolutions easy to use, they remain one of the hardest concepts to understand in Deep Learning. A convolution layer transforms an input volume into an output volume of different size, as shown below. \n",
    "\n",
    "<img src=\"images/conv_nn.png\" style=\"width:350px;height:200px;\">\n",
    "\n",
    "In this part, you will build every step of the convolution layer. You will first implement two helper functions: one for zero padding and the other for computing the convolution function itself. "
   ],
   "metadata": {}
  },
  {
   "cell_type": "markdown",
   "source": [
    "### 3.1 - Zero-Padding\n",
    "\n",
    "Zero-padding adds zeros around the border of an image:\n",
    "\n",
    "<img src=\"images/PAD.png\" style=\"width:600px;height:400px;\">\n",
    "<caption><center> <u> <font color='purple'> **Figure 1** </u><font color='purple'>  : **Zero-Padding**<br> Image (3 channels, RGB) with a padding of 2. </center></caption>\n",
    "\n",
    "The main benefits of padding are the following:\n",
    "\n",
    "- It allows you to use a CONV layer without necessarily shrinking the height and width of the volumes. This is important for building deeper networks, since otherwise the height/width would shrink as you go to deeper layers. An important special case is the \"same\" convolution, in which the height/width is exactly preserved after one layer. \n",
    "\n",
    "- It helps us keep more of the information at the border of an image. Without padding, very few values at the next layer would be affected by pixels as the edges of an image.\n",
    "\n",
    "**Exercise**: Implement the following function, which pads all the images of a batch of examples X with zeros. [Use np.pad](https://docs.scipy.org/doc/numpy/reference/generated/numpy.pad.html). Note if you want to pad the array \"a\" of shape $(5,5,5,5,5)$ with `pad = 1` for the 2nd dimension, `pad = 3` for the 4th dimension and `pad = 0` for the rest, you would do:\n",
    "```python\n",
    "a = np.pad(a, ((0,0), (1,1), (0,0), (3,3), (0,0)), 'constant', constant_values = (..,..))\n",
    "```"
   ],
   "metadata": {}
  },
  {
   "cell_type": "code",
   "execution_count": 2,
   "source": [
    "# GRADED FUNCTION: zero_pad\r\n",
    "\r\n",
    "def zero_pad(X, pad):\r\n",
    "    \"\"\"\r\n",
    "    Pad with zeros all images of the dataset X. The padding is applied to the height and width of an image, \r\n",
    "    as illustrated in Figure 1.\r\n",
    "    \r\n",
    "    Argument:\r\n",
    "    X -- python numpy array of shape (m, n_H, n_W, n_C) representing a batch of m images\r\n",
    "    pad -- integer, amount of padding around each image on vertical and horizontal dimensions\r\n",
    "    \r\n",
    "    Returns:\r\n",
    "    X_pad -- padded image of shape (m, n_H + 2*pad, n_W + 2*pad, n_C)\r\n",
    "    \"\"\"\r\n",
    "    \r\n",
    "    ### START CODE HERE ### (≈ 1 line)\r\n",
    "    X_pad = np.pad(X,((0,0),(pad,pad),(pad,pad),(0,0)),'constant')\r\n",
    "    ### END CODE HERE ###\r\n",
    "    \r\n",
    "    return X_pad"
   ],
   "outputs": [],
   "metadata": {
    "collapsed": true,
    "jupyter": {
     "outputs_hidden": true
    }
   }
  },
  {
   "cell_type": "code",
   "execution_count": 3,
   "source": [
    "np.random.seed(1)\r\n",
    "x = np.random.randn(4, 3, 3, 2)\r\n",
    "x_pad = zero_pad(x, 2)\r\n",
    "print (\"x.shape =\", x.shape)\r\n",
    "print (\"x_pad.shape =\", x_pad.shape)\r\n",
    "print (\"x[1,1] =\", x[1,1])\r\n",
    "print (\"x_pad[1,1] =\", x_pad[1,1])\r\n",
    "\r\n",
    "fig, axarr = plt.subplots(1, 2)\r\n",
    "axarr[0].set_title('x')\r\n",
    "axarr[0].imshow(x[0,:,:,0])\r\n",
    "axarr[1].set_title('x_pad')\r\n",
    "axarr[1].imshow(x_pad[0,:,:,0])"
   ],
   "outputs": [
    {
     "output_type": "stream",
     "name": "stdout",
     "text": [
      "x.shape = (4, 3, 3, 2)\n",
      "x_pad.shape = (4, 7, 7, 2)\n",
      "x[1,1] = [[ 0.90085595 -0.68372786]\n",
      " [-0.12289023 -0.93576943]\n",
      " [-0.26788808  0.53035547]]\n",
      "x_pad[1,1] = [[0. 0.]\n",
      " [0. 0.]\n",
      " [0. 0.]\n",
      " [0. 0.]\n",
      " [0. 0.]\n",
      " [0. 0.]\n",
      " [0. 0.]]\n"
     ]
    },
    {
     "output_type": "execute_result",
     "data": {
      "text/plain": [
       "<matplotlib.image.AxesImage at 0x21eb0ce1748>"
      ]
     },
     "metadata": {},
     "execution_count": 3
    },
    {
     "output_type": "display_data",
     "data": {
      "image/png": "[encoded data removed]",
      "text/plain": [
       "<Figure size 432x288 with 2 Axes>"
      ]
     },
     "metadata": {
      "needs_background": "light"
     }
    }
   ],
   "metadata": {
    "jupyter": {
     "outputs_hidden": true
    }
   }
  },
  {
   "cell_type": "markdown",
   "source": [
    "**Expected Output**:\n",
    "\n",
    "<table>\n",
    "    <tr>\n",
    "        <td>\n",
    "            **x.shape**:\n",
    "        </td>\n",
    "        <td>\n",
    "           (4, 3, 3, 2)\n",
    "        </td>\n",
    "    </tr>\n",
    "        <tr>\n",
    "        <td>\n",
    "            **x_pad.shape**:\n",
    "        </td>\n",
    "        <td>\n",
    "           (4, 7, 7, 2)\n",
    "        </td>\n",
    "    </tr>\n",
    "        <tr>\n",
    "        <td>\n",
    "            **x[1,1]**:\n",
    "        </td>\n",
    "        <td>\n",
    "           [[ 0.90085595 -0.68372786]\n",
    " [-0.12289023 -0.93576943]\n",
    " [-0.26788808  0.53035547]]\n",
    "        </td>\n",
    "    </tr>\n",
    "        <tr>\n",
    "        <td>\n",
    "            **x_pad[1,1]**:\n",
    "        </td>\n",
    "        <td>\n",
    "           [[ 0.  0.]\n",
    " [ 0.  0.]\n",
    " [ 0.  0.]\n",
    " [ 0.  0.]\n",
    " [ 0.  0.]\n",
    " [ 0.  0.]\n",
    " [ 0.  0.]]\n",
    "        </td>\n",
    "    </tr>\n",
    "\n",
    "</table>"
   ],
   "metadata": {}
  },
  {
   "cell_type": "markdown",
   "source": [
    "### 3.2 - Single step of convolution \n",
    "\n",
    "In this part, implement a single step of convolution, in which you apply the filter to a single position of the input. This will be used to build a convolutional unit, which: \n",
    "\n",
    "- Takes an input volume \n",
    "- Applies a filter at every position of the input\n",
    "- Outputs another volume (usually of different size)\n",
    "\n",
    "<img src=\"images/Convolution_schematic.gif\" style=\"width:500px;height:300px;\">\n",
    "<caption><center> <u> <font color='purple'> **Figure 2** </u><font color='purple'>  : **Convolution operation**<br> with a filter of 2x2 and a stride of 1 (stride = amount you move the window each time you slide) </center></caption>\n",
    "\n",
    "In a computer vision application, each value in the matrix on the left corresponds to a single pixel value, and we convolve a 3x3 filter with the image by multiplying its values element-wise with the original matrix, then summing them up. In this first step of the exercise, you will implement a single step of convolution, corresponding to applying a filter to just one of the positions to get a single real-valued output. \n",
    "\n",
    "Later in this notebook, you'll apply this function to multiple positions of the input to implement the full convolutional operation. \n",
    "\n",
    "**Exercise**: Implement conv_single_step(). [Hint](https://docs.scipy.org/doc/numpy-1.13.0/reference/generated/numpy.sum.html).\n"
   ],
   "metadata": {}
  },
  {
   "cell_type": "code",
   "execution_count": 4,
   "source": [
    "# GRADED FUNCTION: conv_single_step\r\n",
    "\r\n",
    "def conv_single_step(a_slice_prev, W, b):\r\n",
    "    \"\"\"\r\n",
    "    Apply one filter defined by parameters W on a single slice (a_slice_prev) of the output activation \r\n",
    "    of the previous layer.\r\n",
    "    \r\n",
    "    Arguments:\r\n",
    "    a_slice_prev -- slice of input data of shape (f, f, n_C_prev)\r\n",
    "    W -- Weight parameters contained in a window - matrix of shape (f, f, n_C_prev)\r\n",
    "    b -- Bias parameters contained in a window - matrix of shape (1, 1, 1)\r\n",
    "    \r\n",
    "    Returns:\r\n",
    "    Z -- a scalar value, result of convolving the sliding window (W, b) on a slice x of the input data\r\n",
    "    \"\"\"\r\n",
    "\r\n",
    "    ### START CODE HERE ### (≈ 2 lines of code)\r\n",
    "    # Element-wise product between a_slice and W. Add bias.\r\n",
    "    s =W*a_slice_prev\r\n",
    "    # Sum over all entries of the volume s\r\n",
    "    Z = np.sum(s)+b\r\n",
    "    ### END CODE HERE ###\r\n",
    "\r\n",
    "    return Z"
   ],
   "outputs": [],
   "metadata": {
    "collapsed": true,
    "jupyter": {
     "outputs_hidden": true
    }
   }
  },
  {
   "cell_type": "code",
   "execution_count": 5,
   "source": [
    "np.random.seed(1)\r\n",
    "a_slice_prev = np.random.randn(4, 4, 3)\r\n",
    "W = np.random.randn(4, 4, 3)\r\n",
    "b = np.random.randn(1, 1, 1)\r\n",
    "\r\n",
    "Z = conv_single_step(a_slice_prev, W, b)\r\n",
    "print(\"Z =\", Z)"
   ],
   "outputs": [
    {
     "output_type": "stream",
     "name": "stdout",
     "text": [
      "Z = [[[-6.99908945]]]\n"
     ]
    }
   ],
   "metadata": {
    "jupyter": {
     "outputs_hidden": true
    }
   }
  },
  {
   "cell_type": "markdown",
   "source": [
    "**Expected Output**:\n",
    "<table>\n",
    "    <tr>\n",
    "        <td>\n",
    "            **Z**\n",
    "        </td>\n",
    "        <td>\n",
    "             -6.99908945068\n",
    "        </td>\n",
    "    </tr>\n",
    "\n",
    "</table>"
   ],
   "metadata": {}
  },
  {
   "cell_type": "markdown",
   "source": [
    "### 3.3 - Convolutional Neural Networks - Forward pass\r\n",
    "\r\n",
    "In the forward pass, you will take many filters and convolve them on the input. Each 'convolution' gives you a 2D matrix output. You will then stack these outputs to get a 3D volume: \r\n",
    "\r\n",
    "<center>\r\n",
    "<video width=\"620\" height=\"440\" src=\"images/conv_kiank.mp4\" type=\"video/mp4\" controls>\r\n",
    "</video>\r\n",
    "</center>\r\n",
    "\r\n",
    "**Exercise**: Implement the function below to convolve the filters W on an input activation A_prev. This function takes as input A_prev, the activations output by the previous layer (for a batch of m inputs), F filters/weights denoted by W, and a bias vector denoted by b, where each filter has its own (single) bias. Finally you also have access to the hyperparameters dictionary which contains the stride and the padding. \r\n",
    "\r\n",
    "**Hint**: \r\n",
    "1. To select a 2x2 slice at the upper left corner of a matrix \"a_prev\" (shape (5,5,3)), you would do:\r\n",
    "```python\r\n",
    "a_slice_prev = a_prev[0:2,0:2,:]\r\n",
    "```\r\n",
    "This will be useful when you will define `a_slice_prev` below, using the `start/end` indexes you will define.\r\n",
    "2. To define a_slice you will need to first define its corners `vert_start`, `vert_end`, `horiz_start` and `horiz_end`. This figure may be helpful for you to find how each of the corner can be defined using h, w, f and s in the code below.\r\n",
    "\r\n",
    "<img src=\"images/vert_horiz_kiank.png\" style=\"width:400px;height:300px;\">\r\n",
    "<caption><center> <u> <font color='purple'> **Figure 3** </u><font color='purple'>  : **Definition of a slice using vertical and horizontal start/end (with a 2x2 filter)** <br> This figure shows only a single channel.  </center></caption>\r\n",
    "\r\n",
    "\r\n",
    "**Reminder**:\r\n",
    "The formulas relating the output shape of the convolution to the input shape is:\r\n",
    "$$ n_H = \\lfloor \\frac{n_{H_{prev}} - f + 2 \\times pad}{stride} \\rfloor +1 $$\r\n",
    "$$ n_W = \\lfloor \\frac{n_{W_{prev}} - f + 2 \\times pad}{stride} \\rfloor +1 $$\r\n",
    "$$ n_C = \\text{number of filters used in the convolution}$$\r\n",
    "\r\n",
    "For this exercise, we won't worry about vectorization, and will just implement everything with for-loops."
   ],
   "metadata": {}
  },
  {
   "cell_type": "code",
   "execution_count": 14,
   "source": [
    "# GRADED FUNCTION: conv_forward\r\n",
    "\r\n",
    "def conv_forward(A_prev, W, b, hparameters):\r\n",
    "    \"\"\"\r\n",
    "    Implements the forward propagation for a convolution function\r\n",
    "    \r\n",
    "    Arguments:\r\n",
    "    A_prev -- output activations of the previous layer, numpy array of shape (m, n_H_prev, n_W_prev, n_C_prev)\r\n",
    "    W -- Weights, numpy array of shape (f, f, n_C_prev, n_C)\r\n",
    "    b -- Biases, numpy array of shape (1, 1, 1, n_C)\r\n",
    "    hparameters -- python dictionary containing \"stride\" and \"pad\"\r\n",
    "        \r\n",
    "    Returns:\r\n",
    "    Z -- conv output, numpy array of shape (m, n_H, n_W, n_C)\r\n",
    "    cache -- cache of values needed for the conv_backward() function\r\n",
    "    \"\"\"\r\n",
    "    \r\n",
    "    ### START CODE HERE ###\r\n",
    "    # Retrieve dimensions from A_prev's shape (≈1 line)  \r\n",
    "    (m, n_H_prev, n_W_prev, n_C_prev) = A_prev.shape\r\n",
    "    \r\n",
    "    # Retrieve dimensions from W's shape (≈1 line)\r\n",
    "    (f, f, n_C_prev, n_C) = W.shape\r\n",
    "    \r\n",
    "    # Retrieve information from \"hparameters\" (≈2 lines)\r\n",
    "    stride = hparameters['stride']\r\n",
    "    pad = hparameters['pad']\r\n",
    "    \r\n",
    "    # Compute the dimensions of the CONV output volume using the formula given above. Hint: use int() to floor. (≈2 lines)\r\n",
    "    n_H = int((n_H_prev-f+2*pad)/stride+1)\r\n",
    "    n_W = int((n_W_prev-f+2*pad)/stride+1)\r\n",
    "    \r\n",
    "    # Initialize the output volume Z with zeros. (≈1 line)\r\n",
    "    Z = np.zeros((m,n_H,n_W,n_C))\r\n",
    "    \r\n",
    "    # Create A_prev_pad by padding A_prev\r\n",
    "    A_prev_pad = zero_pad(A_prev, pad)\r\n",
    "    \r\n",
    "    for i in range(m):                               # loop over the batch of training examples\r\n",
    "        a_prev_pad = A_prev_pad[i]                              # Select ith training example's padded activation\r\n",
    "        for h in range(n_H):                           # loop over vertical axis of the output volume\r\n",
    "            for w in range(n_W):                       # loop over horizontal axis of the output volume\r\n",
    "                for c in range(n_C):                   # loop over channels (= #filters) of the output volume\r\n",
    "                    \r\n",
    "                    # Find the corners of the current \"slice\" (≈4 lines)\r\n",
    "                    vert_start = h * stride\r\n",
    "                    vert_end = vert_start + f\r\n",
    "                    horiz_start = w * stride\r\n",
    "                    horiz_end = horiz_start + f\r\n",
    "                    \r\n",
    "                    # Use the corners to define the (3D) slice of a_prev_pad (See Hint above the cell). (≈1 line)\r\n",
    "                    a_slice_prev = a_prev_pad[vert_start:vert_end,horiz_start:horiz_end,:]\r\n",
    "                    \r\n",
    "                    # Convolve the (3D) slice with the correct filter W and bias b, to get back one output neuron. (≈1 line)\r\n",
    "                    Z[i, h, w, c] = conv_single_step(a_slice_prev, W[:,:,:,c], b[:,:,:,c])\r\n",
    "                                        \r\n",
    "    ### END CODE HERE ###\r\n",
    "    \r\n",
    "    # Making sure your output shape is correct\r\n",
    "    assert(Z.shape == (m, n_H, n_W, n_C))\r\n",
    "    \r\n",
    "    # Save information in \"cache\" for the backprop\r\n",
    "    cache = (A_prev, W, b, hparameters)\r\n",
    "    \r\n",
    "    return Z, cache"
   ],
   "outputs": [],
   "metadata": {
    "collapsed": true,
    "jupyter": {
     "outputs_hidden": true
    }
   }
  },
  {
   "cell_type": "code",
   "execution_count": 15,
   "source": [
    "np.random.seed(1)\r\n",
    "A_prev = np.random.randn(10,4,4,3)\r\n",
    "W = np.random.randn(2,2,3,8)\r\n",
    "b = np.random.randn(1,1,1,8)\r\n",
    "hparameters = {\"pad\" : 2,\r\n",
    "               \"stride\": 2}\r\n",
    "\r\n",
    "Z, cache_conv = conv_forward(A_prev, W, b, hparameters)\r\n",
    "print(\"Z's mean =\", np.mean(Z))\r\n",
    "print(\"Z[3,2,1] =\", Z[3,2,1])\r\n",
    "print(\"cache_conv[0][1][2][3] =\", cache_conv[0][1][2][3])"
   ],
   "outputs": [
    {
     "output_type": "stream",
     "name": "stdout",
     "text": [
      "Z's mean = 0.048995203528855794\n",
      "Z[3,2,1] = [-0.61490741 -6.7439236  -2.55153897  1.75698377  3.56208902  0.53036437\n",
      "  5.18531798  8.75898442]\n",
      "cache_conv[0][1][2][3] = [-0.20075807  0.18656139  0.41005165]\n"
     ]
    }
   ],
   "metadata": {
    "collapsed": true,
    "jupyter": {
     "outputs_hidden": true
    }
   }
  },
  {
   "cell_type": "markdown",
   "source": [
    "**Expected Output**:\n",
    "\n",
    "<table>\n",
    "    <tr>\n",
    "        <td>\n",
    "            **Z's mean**\n",
    "        </td>\n",
    "        <td>\n",
    "            0.0489952035289\n",
    "        </td>\n",
    "    </tr>\n",
    "    <tr>\n",
    "        <td>\n",
    "            **Z[3,2,1]**\n",
    "        </td>\n",
    "        <td>\n",
    "            [-0.61490741 -6.7439236  -2.55153897  1.75698377  3.56208902  0.53036437\n",
    "  5.18531798  8.75898442]\n",
    "        </td>\n",
    "    </tr>\n",
    "    <tr>\n",
    "        <td>\n",
    "            **cache_conv[0][1][2][3]**\n",
    "        </td>\n",
    "        <td>\n",
    "            [-0.20075807  0.18656139  0.41005165]\n",
    "        </td>\n",
    "    </tr>\n",
    "\n",
    "</table>\n"
   ],
   "metadata": {}
  },
  {
   "cell_type": "markdown",
   "source": [
    "Finally, CONV layer should also contain an activation, in which case we would add the following line of code:\n",
    "\n",
    "```python\n",
    "# Convolve the window to get back one output neuron\n",
    "Z[i, h, w, c] = ...\n",
    "# Apply activation\n",
    "A[i, h, w, c] = activation(Z[i, h, w, c])\n",
    "```\n",
    "\n",
    "You don't need to do it here. \n"
   ],
   "metadata": {}
  },
  {
   "cell_type": "markdown",
   "source": [
    "## 4 - Pooling layer \n",
    "\n",
    "The pooling (POOL) layer reduces the height and width of the input. It helps reduce computation, as well as helps make feature detectors more invariant to its position in the input. The two types of pooling layers are: \n",
    "\n",
    "- Max-pooling layer: slides an ($f, f$) window over the input and stores the max value of the window in the output.\n",
    "\n",
    "- Average-pooling layer: slides an ($f, f$) window over the input and stores the average value of the window in the output.\n",
    "\n",
    "<table>\n",
    "<td>\n",
    "<img src=\"images/max_pool1.png\" style=\"width:500px;height:300px;\">\n",
    "<td>\n",
    "\n",
    "<td>\n",
    "<img src=\"images/a_pool.png\" style=\"width:500px;height:300px;\">\n",
    "<td>\n",
    "</table>\n",
    "\n",
    "These pooling layers have no parameters for backpropagation to train. However, they have hyperparameters such as the window size $f$. This specifies the height and width of the fxf window you would compute a max or average over. \n",
    "\n",
    "### 4.1 - Forward Pooling\n",
    "Now, you are going to implement MAX-POOL and AVG-POOL, in the same function. \n",
    "\n",
    "**Exercise**: Implement the forward pass of the pooling layer. Follow the hints in the comments below.\n",
    "\n",
    "**Reminder**:\n",
    "As there's no padding, the formulas binding the output shape of the pooling to the input shape is:\n",
    "$$ n_H = \\lfloor \\frac{n_{H_{prev}} - f}{stride} \\rfloor +1 $$\n",
    "$$ n_W = \\lfloor \\frac{n_{W_{prev}} - f}{stride} \\rfloor +1 $$\n",
    "$$ n_C = n_{C_{prev}}$$"
   ],
   "metadata": {}
  },
  {
   "cell_type": "code",
   "execution_count": 8,
   "source": [
    "# GRADED FUNCTION: pool_forward\r\n",
    "\r\n",
    "def pool_forward(A_prev, hparameters, mode = \"max\"):\r\n",
    "    \"\"\"\r\n",
    "    Implements the forward pass of the pooling layer\r\n",
    "    \r\n",
    "    Arguments:\r\n",
    "    A_prev -- Input data, numpy array of shape (m, n_H_prev, n_W_prev, n_C_prev)\r\n",
    "    hparameters -- python dictionary containing \"f\" and \"stride\"\r\n",
    "    mode -- the pooling mode you would like to use, defined as a string (\"max\" or \"average\")\r\n",
    "    \r\n",
    "    Returns:\r\n",
    "    A -- output of the pool layer, a numpy array of shape (m, n_H, n_W, n_C)\r\n",
    "    cache -- cache used in the backward pass of the pooling layer, contains the input and hparameters \r\n",
    "    \"\"\"\r\n",
    "    \r\n",
    "    # Retrieve dimensions from the input shape\r\n",
    "    (m, n_H_prev, n_W_prev, n_C_prev) = A_prev.shape\r\n",
    "    \r\n",
    "    # Retrieve hyperparameters from \"hparameters\"\r\n",
    "    f = hparameters[\"f\"]\r\n",
    "    stride = hparameters[\"stride\"]\r\n",
    "    \r\n",
    "    # Define the dimensions of the output\r\n",
    "    n_H = int(1 + (n_H_prev - f) / stride)\r\n",
    "    n_W = int(1 + (n_W_prev - f) / stride)\r\n",
    "    n_C = n_C_prev\r\n",
    "    \r\n",
    "    # Initialize output matrix A\r\n",
    "    A = np.zeros((m, n_H, n_W, n_C))              \r\n",
    "    \r\n",
    "    ### START CODE HERE ###\r\n",
    "    for i in range(m):                         # loop over the training examples\r\n",
    "        for h in range(n_H):                     # loop on the vertical axis of the output volume\r\n",
    "            for w in range(n_W):                 # loop on the horizontal axis of the output volume\r\n",
    "                for c in range (n_C):            # loop over the channels of the output volume\r\n",
    "                    \r\n",
    "                    # Find the corners of the current \"slice\" (≈4 lines)\r\n",
    "                    vert_start = h * stride\r\n",
    "                    vert_end = vert_start+f\r\n",
    "                    horiz_start = w * stride\r\n",
    "                    horiz_end = horiz_start + f\r\n",
    "                    \r\n",
    "                    # Use the corners to define the current slice on the ith training example of A_prev, channel c. (≈1 line)\r\n",
    "                    a_prev_slice = A_prev[i,vert_start:vert_end,horiz_start:horiz_end,c]\r\n",
    "                    \r\n",
    "                    # Compute the pooling operation on the slice. Use an if statment to differentiate the modes. Use np.max/np.mean.\r\n",
    "                    if mode == \"max\":\r\n",
    "                        A[i, h, w, c] = np.max(a_prev_slice)\r\n",
    "                    elif mode == \"average\":\r\n",
    "                        A[i, h, w, c] = np.mean(a_prev_slice)\r\n",
    "    \r\n",
    "    ### END CODE HERE ###\r\n",
    "    \r\n",
    "    # Store the input and hparameters in \"cache\" for pool_backward()\r\n",
    "    cache = (A_prev, hparameters)\r\n",
    "    \r\n",
    "    # Making sure your output shape is correct\r\n",
    "    assert(A.shape == (m, n_H, n_W, n_C))\r\n",
    "    \r\n",
    "    return A, cache"
   ],
   "outputs": [],
   "metadata": {
    "collapsed": true,
    "jupyter": {
     "outputs_hidden": true
    }
   }
  },
  {
   "cell_type": "code",
   "execution_count": 9,
   "source": [
    "np.random.seed(1)\r\n",
    "A_prev = np.random.randn(2, 4, 4, 3)\r\n",
    "hparameters = {\"stride\" : 2, \"f\": 3}\r\n",
    "\r\n",
    "A, cache = pool_forward(A_prev, hparameters)\r\n",
    "print(\"mode = max\")\r\n",
    "print(\"A =\", A)\r\n",
    "print()\r\n",
    "A, cache = pool_forward(A_prev, hparameters, mode = \"average\")\r\n",
    "print(\"mode = average\")\r\n",
    "print(\"A =\", A)"
   ],
   "outputs": [
    {
     "output_type": "stream",
     "name": "stdout",
     "text": [
      "mode = max\n",
      "A = [[[[1.74481176 0.86540763 1.13376944]]]\n",
      "\n",
      "\n",
      " [[[1.13162939 1.51981682 2.18557541]]]]\n",
      "\n",
      "mode = average\n",
      "A = [[[[ 0.02105773 -0.20328806 -0.40389855]]]\n",
      "\n",
      "\n",
      " [[[-0.22154621  0.51716526  0.48155844]]]]\n"
     ]
    }
   ],
   "metadata": {
    "collapsed": true,
    "jupyter": {
     "outputs_hidden": true
    }
   }
  },
  {
   "cell_type": "markdown",
   "source": [
    "**Expected Output:**\n",
    "<table>\n",
    "<tr>\n",
    "    <td>\n",
    "    A  =\n",
    "    </td>\n",
    "        <td>\n",
    "         [[[[ 1.74481176  0.86540763  1.13376944]]]\n",
    "\n",
    "\n",
    " [[[ 1.13162939  1.51981682  2.18557541]]]]\n",
    "    </td>\n",
    "    </tr>\n",
    "    <tr>\n",
    "    <td>\n",
    "    A  =\n",
    "    </td>\n",
    "        <td>\n",
    "         [[[[ 0.02105773 -0.20328806 -0.40389855]]]\n",
    "\n",
    "\n",
    " [[[-0.22154621  0.51716526  0.48155844]]]]\n",
    "</td>\n",
    "    </tr>\n",
    "\n",
    "</table>\n",
    "\n"
   ],
   "metadata": {}
  },
  {
   "cell_type": "markdown",
   "source": [
    "Congratulations! You have now implemented the forward passes of all the layers of a convolutional network. \n",
    "\n",
    "The remainer of this notebook is optional, and will not be graded.\n"
   ],
   "metadata": {}
  },
  {
   "cell_type": "markdown",
   "source": [
    "## 5 - Backpropagation in convolutional neural networks\n",
    "\n",
    "In modern deep learning frameworks, you only have to implement the forward pass, and the framework takes care of the backward pass, so most deep learning engineers don't need to bother with the details of the backward pass. The backward pass for convolutional networks is complicated. If you wish however, you can work through this optional portion of the notebook to get a sense of what backprop in a convolutional network looks like. \n",
    "\n",
    "When in an earlier course you implemented a simple (fully connected) neural network, you used backpropagation to compute the derivatives with respect to the cost to update the parameters. Similarly, in convolutional neural networks you can to calculate the derivatives with respect to the cost in order to update the parameters. The backprop equations are not trivial and we did not derive them in lecture, but we briefly presented them below.\n",
    "\n",
    "### 5.1 - Convolutional layer backward pass \n",
    "\n",
    "Let's start by implementing the backward pass for a CONV layer. \n",
    "\n",
    "#### 5.1.1 - Computing dA:\n",
    "This is the formula for computing $dA$ with respect to the cost for a certain filter $W_c$ and a given training example:\n",
    "\n",
    "$$ dA += \\sum _{h=0} ^{n_H} \\sum_{w=0} ^{n_W} W_c \\times dZ_{hw} \\tag{1}$$\n",
    "\n",
    "Where $W_c$ is a filter and $dZ_{hw}$ is a scalar corresponding to the gradient of the cost with respect to the output of the conv layer Z at the hth row and wth column (corresponding to the dot product taken at the ith stride left and jth stride down). Note that at each time, we multiply the the same filter $W_c$ by a different dZ when updating dA. We do so mainly because when computing the forward propagation, each filter is dotted and summed by a different a_slice. Therefore when computing the backprop for dA, we are just adding the gradients of all the a_slices. \n",
    "\n",
    "In code, inside the appropriate for-loops, this formula translates into:\n",
    "```python\n",
    "da_prev_pad[vert_start:vert_end, horiz_start:horiz_end, :] += W[:,:,:,c] * dZ[i, h, w, c]\n",
    "```\n",
    "\n",
    "#### 5.1.2 - Computing dW:\n",
    "This is the formula for computing $dW_c$ ($dW_c$ is the derivative of one filter) with respect to the loss:\n",
    "\n",
    "$$ dW_c  += \\sum _{h=0} ^{n_H} \\sum_{w=0} ^ {n_W} a_{slice} \\times dZ_{hw}  \\tag{2}$$\n",
    "\n",
    "Where $a_{slice}$ corresponds to the slice which was used to generate the acitivation $Z_{ij}$. Hence, this ends up giving us the gradient for $W$ with respect to that slice. Since it is the same $W$, we will just add up all such gradients to get $dW$. \n",
    "\n",
    "In code, inside the appropriate for-loops, this formula translates into:\n",
    "```python\n",
    "dW[:,:,:,c] += a_slice * dZ[i, h, w, c]\n",
    "```\n",
    "\n",
    "#### 5.1.3 - Computing db:\n",
    "\n",
    "This is the formula for computing $db$ with respect to the cost for a certain filter $W_c$:\n",
    "\n",
    "$$ db = \\sum_h \\sum_w dZ_{hw} \\tag{3}$$\n",
    "\n",
    "As you have previously seen in basic neural networks, db is computed by summing $dZ$. In this case, you are just summing over all the gradients of the conv output (Z) with respect to the cost. \n",
    "\n",
    "In code, inside the appropriate for-loops, this formula translates into:\n",
    "```python\n",
    "db[:,:,:,c] += dZ[i, h, w, c]\n",
    "```\n",
    "\n",
    "**Exercise**: Implement the `conv_backward` function below. You should sum over all the training examples, filters, heights, and widths. You should then compute the derivatives using formulas 1, 2 and 3 above. "
   ],
   "metadata": {}
  },
  {
   "cell_type": "code",
   "execution_count": 10,
   "source": [
    "def conv_backward(dZ, cache):\r\n",
    "    \"\"\"\r\n",
    "    Implement the backward propagation for a convolution function\r\n",
    "    \r\n",
    "    Arguments:\r\n",
    "    dZ -- gradient of the cost with respect to the output of the conv layer (Z), numpy array of shape (m, n_H, n_W, n_C)\r\n",
    "    cache -- cache of values needed for the conv_backward(), output of conv_forward()\r\n",
    "    \r\n",
    "    Returns:\r\n",
    "    dA_prev -- gradient of the cost with respect to the input of the conv layer (A_prev),\r\n",
    "               numpy array of shape (m, n_H_prev, n_W_prev, n_C_prev)\r\n",
    "    dW -- gradient of the cost with respect to the weights of the conv layer (W)\r\n",
    "          numpy array of shape (f, f, n_C_prev, n_C)\r\n",
    "    db -- gradient of the cost with respect to the biases of the conv layer (b)\r\n",
    "          numpy array of shape (1, 1, 1, n_C)\r\n",
    "    \"\"\"\r\n",
    "    \r\n",
    "    ### START CODE HERE ###\r\n",
    "    # Retrieve information from \"cache\"\r\n",
    "    (A_prev, W, b, hparameters) = cache\r\n",
    "    \r\n",
    "    # Retrieve dimensions from A_prev's shape\r\n",
    "    (m, n_H_prev, n_W_prev, n_C_prev) = A_prev.shape\r\n",
    "    \r\n",
    "    # Retrieve dimensions from W's shape\r\n",
    "    (f, f, n_C_prev, n_C) = W.shape\r\n",
    "    \r\n",
    "    # Retrieve information from \"hparameters\"\r\n",
    "    stride = hparameters['stride']\r\n",
    "    pad = hparameters['pad']\r\n",
    "    \r\n",
    "    # Retrieve dimensions from dZ's shape\r\n",
    "    (m, n_H, n_W, n_C) = dZ.shape\r\n",
    "    \r\n",
    "    # Initialize dA_prev, dW, db with the correct shapes\r\n",
    "    dA_prev = np.zeros_like(A_prev)                           \r\n",
    "    dW = np.zeros_like(W)\r\n",
    "    db = np.zeros_like(b)\r\n",
    "\r\n",
    "    # Pad A_prev and dA_prev\r\n",
    "    A_prev_pad = zero_pad(A_prev, pad)\r\n",
    "    dA_prev_pad = zero_pad(dA_prev, pad)\r\n",
    "    \r\n",
    "    for i in range(m):                       # loop over the training examples\r\n",
    "        \r\n",
    "        # select ith training example from A_prev_pad and dA_prev_pad\r\n",
    "        a_prev_pad = A_prev_pad[i]\r\n",
    "        da_prev_pad = dA_prev_pad[i]\r\n",
    "        \r\n",
    "        for h in range(n_H):                   # loop over vertical axis of the output volume\r\n",
    "            for w in range(n_W):               # loop over horizontal axis of the output volume\r\n",
    "                for c in range(n_C):           # loop over the channels of the output volume\r\n",
    "                    \r\n",
    "                    # Find the corners of the current \"slice\"\r\n",
    "                    vert_start = h * stride\r\n",
    "                    vert_end = vert_start + f\r\n",
    "                    horiz_start = w * stride\r\n",
    "                    horiz_end = horiz_start + f\r\n",
    "                    \r\n",
    "                    # Use the corners to define the slice from a_prev_pad\r\n",
    "                    a_slice = a_prev_pad[vert_start:vert_end,horiz_start:horiz_end,:]\r\n",
    "\r\n",
    "                    # Update gradients for the window and the filter's parameters using the code formulas given above\r\n",
    "                    da_prev_pad[vert_start:vert_end, horiz_start:horiz_end, :] += W[:,:,:,c] * dZ[i, h, w, c]\r\n",
    "                    dW[:,:,:,c] += a_slice * dZ[i,h,w,c]\r\n",
    "                    db[:,:,:,c] += dZ[i,h,w,c]\r\n",
    "                    \r\n",
    "        # Set the ith training example's dA_prev to the unpaded da_prev_pad (Hint: use X[pad:-pad, pad:-pad, :])\r\n",
    "        dA_prev[i, :, :, :] = da_prev_pad[pad:-pad,pad:-pad,:]\r\n",
    "    ### END CODE HERE ###\r\n",
    "    \r\n",
    "    # Making sure your output shape is correct\r\n",
    "    assert(dA_prev.shape == (m, n_H_prev, n_W_prev, n_C_prev))\r\n",
    "    \r\n",
    "    return dA_prev, dW, db"
   ],
   "outputs": [],
   "metadata": {
    "collapsed": true,
    "jupyter": {
     "outputs_hidden": true
    }
   }
  },
  {
   "cell_type": "code",
   "execution_count": 11,
   "source": [
    "np.random.seed(1)\r\n",
    "dA, dW, db = conv_backward(Z, cache_conv)\r\n",
    "print(\"dA_mean =\", np.mean(dA))\r\n",
    "print(\"dW_mean =\", np.mean(dW))\r\n",
    "print(\"db_mean =\", np.mean(db))"
   ],
   "outputs": [
    {
     "output_type": "stream",
     "name": "stdout",
     "text": [
      "dA_mean = 1.4524377775388075\n",
      "dW_mean = 1.7269914583139097\n",
      "db_mean = 7.839232564616844\n"
     ]
    }
   ],
   "metadata": {
    "collapsed": true,
    "jupyter": {
     "outputs_hidden": true
    },
    "scrolled": true
   }
  },
  {
   "cell_type": "markdown",
   "source": [
    "** Expected Output: **\n",
    "<table>\n",
    "    <tr>\n",
    "        <td>\n",
    "            **dA_mean**\n",
    "        </td>\n",
    "        <td>\n",
    "            1.45243777754\n",
    "        </td>\n",
    "    </tr>\n",
    "    <tr>\n",
    "        <td>\n",
    "            **dW_mean**\n",
    "        </td>\n",
    "        <td>\n",
    "            1.72699145831\n",
    "        </td>\n",
    "    </tr>\n",
    "    <tr>\n",
    "        <td>\n",
    "            **db_mean**\n",
    "        </td>\n",
    "        <td>\n",
    "            7.83923256462\n",
    "        </td>\n",
    "    </tr>\n",
    "\n",
    "</table>\n"
   ],
   "metadata": {}
  },
  {
   "cell_type": "markdown",
   "source": [
    "## 5.2 Pooling layer - backward pass\n",
    "\n",
    "Next, let's implement the backward pass for the pooling layer, starting with the MAX-POOL layer. Even though a pooling layer has no parameters for backprop to update, you still need to backpropagation the gradient through the pooling layer in order to compute gradients for layers that came before the pooling layer. \n",
    "\n",
    "### 5.2.1 Max pooling - backward pass  \n",
    "\n",
    "Before jumping into the backpropagation of the pooling layer, you are going to build a helper function called `create_mask_from_window()` which does the following: \n",
    "\n",
    "$$ X = \\begin{bmatrix}\n",
    "1 && 3 \\\\\n",
    "4 && 2\n",
    "\\end{bmatrix} \\quad \\rightarrow  \\quad M =\\begin{bmatrix}\n",
    "0 && 0 \\\\\n",
    "1 && 0\n",
    "\\end{bmatrix}\\tag{4}$$\n",
    "\n",
    "As you can see, this function creates a \"mask\" matrix which keeps track of where the maximum of the matrix is. True (1) indicates the position of the maximum in X, the other entries are False (0). You'll see later that the backward pass for average pooling will be similar to this but using a different mask.  \n",
    "\n",
    "**Exercise**: Implement `create_mask_from_window()`. This function will be helpful for pooling backward. \n",
    "Hints:\n",
    "- [np.max()]() may be helpful. It computes the maximum of an array.\n",
    "- If you have a matrix X and a scalar x: `A = (X == x)` will return a matrix A of the same size as X such that:\n",
    "```\n",
    "A[i,j] = True if X[i,j] = x\n",
    "A[i,j] = False if X[i,j] != x\n",
    "```\n",
    "- Here, you don't need to consider cases where there are several maxima in a matrix."
   ],
   "metadata": {}
  },
  {
   "cell_type": "code",
   "execution_count": 16,
   "source": [
    "def create_mask_from_window(x):\r\n",
    "    \"\"\"\r\n",
    "    Creates a mask from an input matrix x, to identify the max entry of x.\r\n",
    "    \r\n",
    "    Arguments:\r\n",
    "    x -- Array of shape (f, f)\r\n",
    "    \r\n",
    "    Returns:\r\n",
    "    mask -- Array of the same shape as window, contains a True at the position corresponding to the max entry of x.\r\n",
    "    \"\"\"\r\n",
    "    \r\n",
    "    ### START CODE HERE ### (≈1 line)\r\n",
    "    mask = (np.max(x)==x)\r\n",
    "    ### END CODE HERE ###\r\n",
    "    \r\n",
    "    return mask"
   ],
   "outputs": [],
   "metadata": {
    "collapsed": true,
    "jupyter": {
     "outputs_hidden": true
    }
   }
  },
  {
   "cell_type": "code",
   "execution_count": 17,
   "source": [
    "np.random.seed(1)\r\n",
    "x = np.random.randn(2,3)\r\n",
    "mask = create_mask_from_window(x)\r\n",
    "print('x = ', x)\r\n",
    "print(\"mask = \", mask)"
   ],
   "outputs": [
    {
     "output_type": "stream",
     "name": "stdout",
     "text": [
      "x =  [[ 1.62434536 -0.61175641 -0.52817175]\n",
      " [-1.07296862  0.86540763 -2.3015387 ]]\n",
      "mask =  [[ True False False]\n",
      " [False False False]]\n"
     ]
    }
   ],
   "metadata": {
    "collapsed": true,
    "jupyter": {
     "outputs_hidden": true
    },
    "scrolled": true
   }
  },
  {
   "cell_type": "markdown",
   "source": [
    "**Expected Output:** \n",
    "\n",
    "<table> \n",
    "<tr> \n",
    "<td>\n",
    "\n",
    "**x =**\n",
    "</td>\n",
    "\n",
    "<td>\n",
    "\n",
    "[[ 1.62434536 -0.61175641 -0.52817175] <br>\n",
    " [-1.07296862  0.86540763 -2.3015387 ]]\n",
    "\n",
    "  </td>\n",
    "</tr>\n",
    "\n",
    "<tr> \n",
    "<td>\n",
    "**mask =**\n",
    "</td>\n",
    "<td>\n",
    "[[ True False False] <br>\n",
    " [False False False]]\n",
    "</td>\n",
    "</tr>\n",
    "\n",
    "\n",
    "</table>"
   ],
   "metadata": {}
  },
  {
   "cell_type": "markdown",
   "source": [
    "Why do we keep track of the position of the max? It's because this is the input value that ultimately influenced the output, and therefore the cost. Backprop is computing gradients with respect to the cost, so anything that influences the ultimate cost should have a non-zero gradient. So, backprop will \"propagate\" the gradient back to this particular input value that had influenced the cost. "
   ],
   "metadata": {}
  },
  {
   "cell_type": "markdown",
   "source": [
    "### 5.2.2 - Average pooling - backward pass \n",
    "\n",
    "In max pooling, for each input window, all the \"influence\" on the output came from a single input value--the max. In average pooling, every element of the input window has equal influence on the output. So to implement backprop, you will now implement a helper function that reflects this.\n",
    "\n",
    "For example if we did average pooling in the forward pass using a 2x2 filter, then the mask you'll use for the backward pass will look like: \n",
    "$$ dZ = 1 \\quad \\rightarrow  \\quad dZ =\\begin{bmatrix}\n",
    "1/4 && 1/4 \\\\\n",
    "1/4 && 1/4\n",
    "\\end{bmatrix}\\tag{5}$$\n",
    "\n",
    "This implies that each position in the $dZ$ matrix contributes equally to output because in the forward pass, we took an average. \n",
    "\n",
    "**Exercise**: Implement the function below to equally distribute a value dz through a matrix of dimension shape. [Hint](https://docs.scipy.org/doc/numpy-1.13.0/reference/generated/numpy.ones.html)"
   ],
   "metadata": {}
  },
  {
   "cell_type": "code",
   "execution_count": 18,
   "source": [
    "def distribute_value(dz, shape):\r\n",
    "    \"\"\"\r\n",
    "    Distributes the input value in the matrix of dimension shape\r\n",
    "    \r\n",
    "    Arguments:\r\n",
    "    dz -- input scalar\r\n",
    "    shape -- the shape (n_H, n_W) of the output matrix for which we want to distribute the value of dz\r\n",
    "    \r\n",
    "    Returns:\r\n",
    "    a -- Array of size (n_H, n_W) for which we distributed the value of dz\r\n",
    "    \"\"\"\r\n",
    "    \r\n",
    "    ### START CODE HERE ###\r\n",
    "    # Retrieve dimensions from shape (≈1 line)\r\n",
    "    (n_H, n_W) = shape\r\n",
    "    \r\n",
    "    # Compute the value to distribute on the matrix (≈1 line)\r\n",
    "    average = dz/(n_H*n_W)\r\n",
    "    \r\n",
    "    # Create a matrix where every entry is the \"average\" value (≈1 line)\r\n",
    "    a = np.ones(shape) * average\r\n",
    "    ### END CODE HERE ###\r\n",
    "    \r\n",
    "    return a"
   ],
   "outputs": [],
   "metadata": {
    "collapsed": true,
    "jupyter": {
     "outputs_hidden": true
    }
   }
  },
  {
   "cell_type": "code",
   "execution_count": 19,
   "source": [
    "a = distribute_value(2, (2,2))\r\n",
    "print('distributed value =', a)"
   ],
   "outputs": [
    {
     "output_type": "stream",
     "name": "stdout",
     "text": [
      "distributed value = [[0.5 0.5]\n",
      " [0.5 0.5]]\n"
     ]
    }
   ],
   "metadata": {
    "collapsed": true,
    "jupyter": {
     "outputs_hidden": true
    }
   }
  },
  {
   "cell_type": "markdown",
   "source": [
    "**Expected Output**: \n",
    "\n",
    "<table> \n",
    "<tr> \n",
    "<td>\n",
    "distributed_value =\n",
    "</td>\n",
    "<td>\n",
    "[[ 0.5  0.5]\n",
    "<br\\> \n",
    "[ 0.5  0.5]]\n",
    "</td>\n",
    "</tr>\n",
    "</table>"
   ],
   "metadata": {}
  },
  {
   "cell_type": "markdown",
   "source": [
    "### 5.2.3 Putting it together: Pooling backward \n",
    "\n",
    "You now have everything you need to compute backward propagation on a pooling layer.\n",
    "\n",
    "**Exercise**: Implement the `pool_backward` function in both modes (`\"max\"` and `\"average\"`). You will once again use 4 for-loops (iterating over training examples, height, width, and channels). You should use an `if/elif` statement to see if the mode is equal to `'max'` or `'average'`. If it is equal to 'average' you should use the `distribute_value()` function you implemented above to create a matrix of the same shape as `a_slice`. Otherwise, the mode is equal to '`max`', and you will create a mask with `create_mask_from_window()` and multiply it by the corresponding value of dZ."
   ],
   "metadata": {}
  },
  {
   "cell_type": "code",
   "execution_count": 20,
   "source": [
    "def pool_backward(dA, cache, mode = \"max\"):\r\n",
    "    \"\"\"\r\n",
    "    Implements the backward pass of the pooling layer\r\n",
    "    \r\n",
    "    Arguments:\r\n",
    "    dA -- gradient of cost with respect to the output of the pooling layer, same shape as A\r\n",
    "    cache -- cache output from the forward pass of the pooling layer, contains the layer's input and hparameters \r\n",
    "    mode -- the pooling mode you would like to use, defined as a string (\"max\" or \"average\")\r\n",
    "    \r\n",
    "    Returns:\r\n",
    "    dA_prev -- gradient of cost with respect to the input of the pooling layer, same shape as A_prev\r\n",
    "    \"\"\"\r\n",
    "    \r\n",
    "    ### START CODE HERE ###\r\n",
    "    \r\n",
    "    # Retrieve information from cache (≈1 line)\r\n",
    "    (A_prev, hparameters) = cache\r\n",
    "    \r\n",
    "    # Retrieve hyperparameters from \"hparameters\" (≈2 lines)\r\n",
    "    stride = hparameters['stride']\r\n",
    "    f = hparameters['f']\r\n",
    "    \r\n",
    "    # Retrieve dimensions from A_prev's shape and dA's shape (≈2 lines)\r\n",
    "    m, n_H_prev, n_W_prev, n_C_prev = A_prev.shape\r\n",
    "    m, n_H, n_W, n_C = dA.shape\r\n",
    "    \r\n",
    "    # Initialize dA_prev with zeros (≈1 line)\r\n",
    "    dA_prev = np.zeros_like(A_prev)\r\n",
    "    \r\n",
    "    for i in range(m):                       # loop over the training examples\r\n",
    "        \r\n",
    "        # select training example from A_prev (≈1 line)\r\n",
    "        a_prev = A_prev[i]\r\n",
    "        \r\n",
    "        for h in range(n_H):                   # loop on the vertical axis\r\n",
    "            for w in range(n_W):               # loop on the horizontal axis\r\n",
    "                for c in range(n_C):           # loop over the channels (depth)\r\n",
    "                    \r\n",
    "                    # Find the corners of the current \"slice\" (≈4 lines)\r\n",
    "                    vert_start = h * stride\r\n",
    "                    vert_end = vert_start + f\r\n",
    "                    horiz_start = w * stride\r\n",
    "                    horiz_end = horiz_start + f\r\n",
    "                    \r\n",
    "                    # Compute the backward propagation in both modes.\r\n",
    "                    if mode == \"max\":\r\n",
    "                        \r\n",
    "                        # Use the corners and \"c\" to define the current slice from a_prev (≈1 line)\r\n",
    "                        a_prev_slice = a_prev[vert_start:vert_end, horiz_start:horiz_end, c]\r\n",
    "                        # Create the mask from a_prev_slice (≈1 line)\r\n",
    "                        mask = create_mask_from_window(a_prev_slice)\r\n",
    "                        # Set dA_prev to be dA_prev + (the mask multiplied by the correct entry of dA) (≈1 line)\r\n",
    "                        dA_prev[i, vert_start: vert_end, horiz_start: horiz_end, c] += np.multiply(mask, dA[i,h,w,c])\r\n",
    "                        \r\n",
    "                    elif mode == \"average\":\r\n",
    "                        \r\n",
    "                        # Get the value a from dA (≈1 line)\r\n",
    "                        da = dA[i,h,w,c]\r\n",
    "                        # Define the shape of the filter as fxf (≈1 line)\r\n",
    "                        shape = (f,f)\r\n",
    "                        # Distribute it to get the correct slice of dA_prev. i.e. Add the distributed value of da. (≈1 line)\r\n",
    "                        dA_prev[i, vert_start: vert_end, horiz_start: horiz_end, c] += distribute_value(da, shape)\r\n",
    "                        \r\n",
    "    ### END CODE ###\r\n",
    "    \r\n",
    "    # Making sure your output shape is correct\r\n",
    "    assert(dA_prev.shape == A_prev.shape)\r\n",
    "    \r\n",
    "    return dA_prev"
   ],
   "outputs": [],
   "metadata": {
    "collapsed": true,
    "jupyter": {
     "outputs_hidden": true
    }
   }
  },
  {
   "cell_type": "code",
   "execution_count": 21,
   "source": [
    "np.random.seed(1)\r\n",
    "A_prev = np.random.randn(5, 5, 3, 2)\r\n",
    "hparameters = {\"stride\" : 1, \"f\": 2}\r\n",
    "A, cache = pool_forward(A_prev, hparameters)\r\n",
    "dA = np.random.randn(5, 4, 2, 2)\r\n",
    "\r\n",
    "dA_prev = pool_backward(dA, cache, mode = \"max\")\r\n",
    "print(\"mode = max\")\r\n",
    "print('mean of dA = ', np.mean(dA))\r\n",
    "print('dA_prev[1,1] = ', dA_prev[1,1])  \r\n",
    "print()\r\n",
    "dA_prev = pool_backward(dA, cache, mode = \"average\")\r\n",
    "print(\"mode = average\")\r\n",
    "print('mean of dA = ', np.mean(dA))\r\n",
    "print('dA_prev[1,1] = ', dA_prev[1,1]) "
   ],
   "outputs": [
    {
     "output_type": "stream",
     "name": "stdout",
     "text": [
      "mode = max\n",
      "mean of dA =  0.14571390272918056\n",
      "dA_prev[1,1] =  [[ 0.          0.        ]\n",
      " [ 5.05844394 -1.68282702]\n",
      " [ 0.          0.        ]]\n",
      "\n",
      "mode = average\n",
      "mean of dA =  0.14571390272918056\n",
      "dA_prev[1,1] =  [[ 0.08485462  0.2787552 ]\n",
      " [ 1.26461098 -0.25749373]\n",
      " [ 1.17975636 -0.53624893]]\n"
     ]
    }
   ],
   "metadata": {
    "collapsed": true,
    "jupyter": {
     "outputs_hidden": true
    }
   }
  },
  {
   "cell_type": "markdown",
   "source": [
    "**Expected Output**: \n",
    "\n",
    "mode = max:\n",
    "<table> \n",
    "<tr> \n",
    "<td>\n",
    "\n",
    "**mean of dA =**\n",
    "</td>\n",
    "\n",
    "<td>\n",
    "\n",
    "0.14571390272918056\n",
    "\n",
    "  </td>\n",
    "</tr>\n",
    "\n",
    "<tr> \n",
    "<td>\n",
    "**dA_prev[1,1] =** \n",
    "</td>\n",
    "<td>\n",
    "[[ 0.          0.        ] <br>\n",
    " [ 10.11330283 -0.49726956] <br>\n",
    " [ 0.          0.        ]]\n",
    "</td>\n",
    "</tr>\n",
    "</table>\n",
    "\n",
    "mode = average\n",
    "<table> \n",
    "<tr> \n",
    "<td>\n",
    "\n",
    "**mean of dA =**\n",
    "</td>\n",
    "\n",
    "<td>\n",
    "\n",
    "0.14571390272918056\n",
    "\n",
    "  </td>\n",
    "</tr>\n",
    "\n",
    "<tr> \n",
    "<td>\n",
    "**dA_prev[1,1] =** \n",
    "</td>\n",
    "<td>\n",
    "[[ 2.59843096 -0.27835778] <br>\n",
    " [ 7.96018612 -1.95394424] <br>\n",
    " [ 5.36175516 -1.67558646]]\n",
    "</td>\n",
    "</tr>\n",
    "</table>"
   ],
   "metadata": {}
  },
  {
   "cell_type": "markdown",
   "source": [
    "### Congratulations !\n",
    "\n",
    "Congratulation on completing this assignment. You now understand how convolutional neural networks work. You have implemented all the building blocks of a neural network. In the next assignment you will implement a ConvNet using TensorFlow."
   ],
   "metadata": {}
  }
 ],
 "metadata": {
  "coursera": {
   "course_slug": "convolutional-neural-networks",
   "graded_item_id": "qO8ng",
   "launcher_item_id": "7XDi8"
  },
  "kernelspec": {
   "name": "python3",
   "display_name": "Python 3.6.13 64-bit ('tensorflow': conda)"
  },
  "language_info": {
   "codemirror_mode": {
    "name": "ipython",
    "version": 3
   },
   "file_extension": ".py",
   "mimetype": "text/x-python",
   "name": "python",
   "nbconvert_exporter": "python",
   "pygments_lexer": "ipython3",
   "version": "3.6.13"
  },
  "interpreter": {
   "hash": "68107679553ef44d481a11c3fb16b8b6ddeb1fe002b2532a32e01ec5704a57b7"
  }
 },
 "nbformat": 4,
 "nbformat_minor": 4
}